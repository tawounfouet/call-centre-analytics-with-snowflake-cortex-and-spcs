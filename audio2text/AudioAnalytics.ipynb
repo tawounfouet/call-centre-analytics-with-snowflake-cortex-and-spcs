{
 "cells": [
  {
   "cell_type": "code",
   "execution_count": 1,
   "id": "967f031a",
   "metadata": {},
   "outputs": [],
   "source": [
    "# Import Python packages\n",
    "import pandas as pd\n",
    "import os\n",
    "import json\n",
    "import pickle\n",
    "import numpy as np\n",
    "import time\n",
    "import sys\n",
    "# import cachetools\n",
    "# Import Snowflake modules\n",
    "from snowflake.snowpark import Session, DataFrame\n",
    "from snowflake.snowpark import functions as F\n",
    "from snowflake.snowpark import types as T\n",
    "from snowflake.snowpark import Row, Column\n",
    "import pandas as pd\n",
    "from snowflake.snowpark.version import VERSION"
   ]
  },
  {
   "cell_type": "code",
   "execution_count": null,
   "id": "e334b3b7-688b-423d-8de3-1aa6d030c43b",
   "metadata": {},
   "outputs": [],
   "source": [
    "# Get account credentials from a json file\n",
    "with open(\"../connection.json\") as f:\n",
    "    data = json.load(f)\n",
    "    username = data[\"user\"]\n",
    "    password = data[\"password\"]\n",
    "    account = data[\"account\"]\n",
    "    database = data[\"database\"]\n",
    "    schema = data[\"schema\"]\n",
    "    warehouse = data[\"warehouse\"]\n",
    "\n",
    "# Specify connection parameters\n",
    "connection_parameters = {\n",
    "    \"account\": account,\n",
    "    \"user\": username,\n",
    "    \"password\": password,\n",
    "    \"warehouse\": warehouse,\n",
    "    \"database\": database,\n",
    "    \"schema\": schema,\n",
    "}"
   ]
  },
  {
   "cell_type": "code",
   "execution_count": 4,
   "id": "066bd091-5750-40f9-abfe-e6c5dd068dbe",
   "metadata": {},
   "outputs": [],
   "source": [
    "# Specify connection parameters\n",
    "connection_parameters = {\n",
    "    \"account\": \"ZQQHUZA-OJ27679\",\n",
    "    \"user\": \"AWFSNOWADMIN\",\n",
    "    \"password\": \"Thomson&20052014\",\n",
    "    \"passcode\": \"1733616\",\n",
    "    \"database\": \"LLMDemo\",\n",
    "    \"schema\": \"PUBLIC\",\n",
    "    \"warehouse\": \"small_warehouse\",\n",
    "    \"role\":\"SPCS_PSE_ROLE\"\n",
    "}  \n",
    "\n",
    "\n",
    "#connection_parameters = json.load(open('../connection.json'))\n",
    "session = Session.builder.configs(connection_parameters).create()"
   ]
  },
  {
   "cell_type": "code",
   "execution_count": 5,
   "id": "043e5b0e-c54c-4005-8d28-1e6d58cca9ea",
   "metadata": {},
   "outputs": [
    {
     "name": "stdout",
     "output_type": "stream",
     "text": [
      "\"SMALL_WAREHOUSE\"\n",
      "\n",
      "Connection Established with the following parameters:\n",
      "User                        : AWFSNOWADMIN\n",
      "Role                        : \"SPCS_PSE_ROLE\"\n",
      "Database                    : \"LLMDEMO\"\n",
      "Schema                      : \"PUBLIC\"\n",
      "Warehouse                   : \"SMALL_WAREHOUSE\"\n",
      "Snowflake version           : 9.7.3\n",
      "Snowpark for Python version : 1.30.0\n"
     ]
    }
   ],
   "source": [
    "# Add a query tag to the session.\n",
    "session.query_tag = {\"origin\":\"sf_sit-is\", \n",
    "                     \"name\":\"spcs_call_center\", \n",
    "                     \"version\":{\"major\":1, \"minor\":0},\n",
    "                     \"attributes\":{\"is_quickstart\":1, \"source\":\"notebook\"}}\n",
    "snowflake_environment = session.sql('SELECT current_user(), current_version()').collect()\n",
    "\n",
    "print(session.get_current_warehouse())\n",
    "snowpark_version = VERSION\n",
    "\n",
    "# Current Environment Details\n",
    "print('\\nConnection Established with the following parameters:')\n",
    "print('User                        : {}'.format(snowflake_environment[0][0]))\n",
    "print('Role                        : {}'.format(session.get_current_role()))\n",
    "print('Database                    : {}'.format(session.get_current_database()))\n",
    "print('Schema                      : {}'.format(session.get_current_schema()))\n",
    "print('Warehouse                   : {}'.format(session.get_current_warehouse()))\n",
    "print('Snowflake version           : {}'.format(snowflake_environment[0][1]))\n",
    "print('Snowpark for Python version : {}.{}.{}'.format(snowpark_version[0],snowpark_version[1],snowpark_version[2]))"
   ]
  },
  {
   "cell_type": "code",
   "execution_count": 5,
   "id": "9d49360f",
   "metadata": {},
   "outputs": [],
   "source": [
    "generated_transcripts_df = session.table(\"ALL_CLAIMS_RAW\")"
   ]
  },
  {
   "cell_type": "code",
   "execution_count": 6,
   "id": "1998c70e",
   "metadata": {},
   "outputs": [
    {
     "data": {
      "text/plain": [
       "96"
      ]
     },
     "execution_count": 6,
     "metadata": {},
     "output_type": "execute_result"
    }
   ],
   "source": [
    "generated_transcripts_df.count()"
   ]
  },
  {
   "cell_type": "code",
   "execution_count": 7,
   "id": "a7cb482a",
   "metadata": {},
   "outputs": [
    {
     "data": {
      "text/html": [
       "<div>\n",
       "<style scoped>\n",
       "    .dataframe tbody tr th:only-of-type {\n",
       "        vertical-align: middle;\n",
       "    }\n",
       "\n",
       "    .dataframe tbody tr th {\n",
       "        vertical-align: top;\n",
       "    }\n",
       "\n",
       "    .dataframe thead th {\n",
       "        text-align: right;\n",
       "    }\n",
       "</style>\n",
       "<table border=\"1\" class=\"dataframe\">\n",
       "  <thead>\n",
       "    <tr style=\"text-align: right;\">\n",
       "      <th></th>\n",
       "      <th>DATETIME</th>\n",
       "      <th>AUDIOFILE</th>\n",
       "      <th>CONVERSATION</th>\n",
       "      <th>PRESIGNED_URL_PATH</th>\n",
       "      <th>DURATION</th>\n",
       "    </tr>\n",
       "  </thead>\n",
       "  <tbody>\n",
       "    <tr>\n",
       "      <th>0</th>\n",
       "      <td>2023-11-11</td>\n",
       "      <td>audiofile1.mp3</td>\n",
       "      <td>Hello, this is Emily from AutoAssure Insurance...</td>\n",
       "      <td>https://sfc-prod3-ds1-16-customer-stage.s3.us-...</td>\n",
       "      <td>218.254271</td>\n",
       "    </tr>\n",
       "    <tr>\n",
       "      <th>1</th>\n",
       "      <td>2023-11-11</td>\n",
       "      <td>audiofile2.mp3</td>\n",
       "      <td>Hello, this is James from AutoAssure Insurance...</td>\n",
       "      <td>https://sfc-prod3-ds1-16-customer-stage.s3.us-...</td>\n",
       "      <td>197.705486</td>\n",
       "    </tr>\n",
       "    <tr>\n",
       "      <th>2</th>\n",
       "      <td>2023-11-11</td>\n",
       "      <td>audiofile3.mp3</td>\n",
       "      <td>Hello, this is Sarah from AutoAssure Insurance...</td>\n",
       "      <td>https://sfc-prod3-ds1-16-customer-stage.s3.us-...</td>\n",
       "      <td>75.172382</td>\n",
       "    </tr>\n",
       "  </tbody>\n",
       "</table>\n",
       "</div>"
      ],
      "text/plain": [
       "     DATETIME       AUDIOFILE  \\\n",
       "0  2023-11-11  audiofile1.mp3   \n",
       "1  2023-11-11  audiofile2.mp3   \n",
       "2  2023-11-11  audiofile3.mp3   \n",
       "\n",
       "                                        CONVERSATION  \\\n",
       "0  Hello, this is Emily from AutoAssure Insurance...   \n",
       "1  Hello, this is James from AutoAssure Insurance...   \n",
       "2  Hello, this is Sarah from AutoAssure Insurance...   \n",
       "\n",
       "                                  PRESIGNED_URL_PATH    DURATION  \n",
       "0  https://sfc-prod3-ds1-16-customer-stage.s3.us-...  218.254271  \n",
       "1  https://sfc-prod3-ds1-16-customer-stage.s3.us-...  197.705486  \n",
       "2  https://sfc-prod3-ds1-16-customer-stage.s3.us-...   75.172382  "
      ]
     },
     "execution_count": 7,
     "metadata": {},
     "output_type": "execute_result"
    }
   ],
   "source": [
    "generated_transcripts_df.limit(3).to_pandas()"
   ]
  },
  {
   "cell_type": "markdown",
   "id": "e0e00ecb",
   "metadata": {},
   "source": [
    "### Grant Role to access Cortex Functions\n",
    "Only the below command should be executed as Accountadmin and rest of the code using custom role you have created(SPCS_PSE_ROLE)"
   ]
  },
  {
   "cell_type": "markdown",
   "id": "0aee5177",
   "metadata": {},
   "source": [
    "```sql\n",
    "USE ROLE accountadmin;\n",
    "GRANT DATABASE ROLE SNOWFLAKE.CORTEX_USER TO ROLE  SPCS_PSE_ROLE\n",
    "```"
   ]
  },
  {
   "cell_type": "markdown",
   "id": "f7984d13",
   "metadata": {},
   "source": [
    "### Custom Prompt"
   ]
  },
  {
   "cell_type": "code",
   "execution_count": 8,
   "id": "128e7ef1",
   "metadata": {},
   "outputs": [
    {
     "data": {
      "text/plain": [
       "[Row(status='Stage area UDF successfully created.')]"
      ]
     },
     "execution_count": 8,
     "metadata": {},
     "output_type": "execute_result"
    }
   ],
   "source": [
    "session.sql(\"create stage if not exists udf\").collect()"
   ]
  },
  {
   "cell_type": "code",
   "execution_count": 37,
   "id": "86e462ea",
   "metadata": {},
   "outputs": [],
   "source": [
    "# @F.udf(name=\"get_qa_prompt_zeroshort\", session=session, packages=['scikit-learn==1.1.1', 'pandas'], is_permanent=True, stage_location=\"@udf\", replace=True, input_types=[T.PandasSeriesType(T.StringType())], return_type=T.PandasSeriesType(T.StringType()))\n",
    "# def get_qa_prompt(query_series:pd.Series):\n",
    "#     response_series =  query_series.map(lambda query: f\"\"\"\n",
    "#   [INST]We need to analyze the text of the customer support transcript in the <transcript></transcript> tag.\n",
    "#    <transcript>\n",
    "#      {query}\n",
    "#    </transcript>\n",
    "#   Provide a  response using the following format, no preamble. Extract the name of the Representative name from the transcript \n",
    "#   and replace that name for Representative and extract Customer name from the trasnscript \n",
    "#   replace that name for Customer for  building the conversation below :\n",
    "#  * Representative : text of the Representative\n",
    "#  * Customer  : text of the customer\n",
    "\n",
    "#  This patterns should be a conversation between Representative and Customer conversation. Break the entire transcript into a conversation between \n",
    "#  Representative and the Customer. \n",
    "#    Don't provide any explanations. Don't include the sentense Sure, here is the conversation between:\n",
    "# [/INST]\"\"\")\n",
    "#     return response_series"
   ]
  },
  {
   "cell_type": "code",
   "execution_count": 12,
   "id": "9671b802-e75c-4b33-a548-da784fcacf15",
   "metadata": {},
   "outputs": [
    {
     "name": "stdout",
     "output_type": "stream",
     "text": [
      "---------------------------------------------------------------\n",
      "|\"PACKAGE_NAME\"  |\"VERSION\"  |\"LANGUAGE\"  |\"RUNTIME_VERSION\"  |\n",
      "---------------------------------------------------------------\n",
      "|scikit-learn    |0.24.1     |python      |3.8                |\n",
      "|scikit-learn    |0.24.1     |python      |3.9                |\n",
      "|scikit-learn    |0.24.2     |python      |3.8                |\n",
      "|scikit-learn    |0.24.2     |python      |3.9                |\n",
      "|scikit-learn    |1.0.1      |python      |3.8                |\n",
      "|scikit-learn    |1.0.1      |python      |3.9                |\n",
      "|scikit-learn    |1.0.2      |python      |3.8                |\n",
      "|scikit-learn    |1.0.2      |python      |3.9                |\n",
      "|scikit-learn    |1.1.1      |python      |3.10               |\n",
      "|scikit-learn    |1.1.1      |python      |3.8                |\n",
      "---------------------------------------------------------------\n",
      "\n"
     ]
    }
   ],
   "source": [
    "session.sql(\"SELECT * FROM information_schema.packages WHERE PACKAGE_NAME = 'scikit-learn'\").show()"
   ]
  },
  {
   "cell_type": "code",
   "execution_count": 13,
   "id": "bb7af1c6",
   "metadata": {},
   "outputs": [],
   "source": [
    "@F.udf(name=\"get_qa_prompt_oneshort\", session=session, packages=['scikit-learn==1.6.1', 'pandas'], is_permanent=True, stage_location=\"@udf\", replace=True, input_types=[T.PandasSeriesType(T.StringType())], return_type=T.PandasSeriesType(T.StringType()))\n",
    "def get_qa_prompt_oneshort(query_series:pd.Series):\n",
    "    response_series =  query_series.map(lambda query: f\"\"\"\n",
    "                                        \n",
    "<s>[INST]\n",
    "<<SYS>>\n",
    "You are a expert in analyzing customer transcripts and tasked with answering questions about an article.  \n",
    "Please ensure that your responses are socially unbiased and positive in nature.\n",
    "If you don't know the answer, please don't share false information.\n",
    "\n",
    "Output answer in the following format and no preamble. :\n",
    "                                        * <Representative> : text of the Representative\n",
    "                                        * <Customer>  : text of the customer\n",
    "Extract the name of the Representative name from the transcript \n",
    "and replace that name for <Representative> and extract Customer name from the trasnscript replace that with <Customer> for creating the conversation. \n",
    "\n",
    "Below is one example output for the conversation:   \n",
    "                                                                    \n",
    "Representative: Jason\n",
    "Customer: Michelle Turner\n",
    "\n",
    "Jason: Hi, Michelle. My name is Jason from AutoAssure Insurance. How may I assist you today?\n",
    "Michelle: Hi, Jason. I'm calling regarding a dispute I have with a recent claim.\n",
    "Jason: Of course, Michelle. Can you please provide me with your claim number so I can access your file?\n",
    "Michelle: Certainly, it's CLM876543.\n",
    "Jason: Thank you, Michelle. Let me retrieve your claim information. While I'm doing that, could you explain the nature of the dispute?\n",
    "Michelle: Of course, Jason. I believe there's been a misunderstanding in the assessment of the damages to my vehicle.\n",
    "Jason: I appreciate you providing details, Michelle. I'll review your claim thoroughly and work towards a resolution.\n",
    "Michelle: Thank you, Jason. I hope we can reach a fair resolution.\n",
    "Jason: We'll do our best, Michelle. I'll keep you updated on the progress. Have a good day!\n",
    "                                                                              \n",
    "<</SYS>>                                                                                                             \n",
    "We need to analyze the text of the transcript found in <transcript> </transcript> tag as conversation between representative and the customer. Convert the transcript in the format mentioned in the example. \n",
    "Extract the name of the Representative name from the transcript and replace that name for <Representative> and extract Customer name from the trasnscript replace that with <Customer> while creating the conversation.                                       \n",
    "Do not include \"Sure, here is the conversation between in the output. Never say thank you, that you are happy to help, that you are an AI agent, etc. Just answer directly\". \n",
    "<transcript>\n",
    "     {query}\n",
    "</transcript> \n",
    "\n",
    "\n",
    "[/INST] Answer: Sure, I would be happy to help! \"\"\"                                        \n",
    "    )\n",
    "\n",
    "    return response_series"
   ]
  },
  {
   "cell_type": "code",
   "execution_count": 39,
   "id": "c64d60ab",
   "metadata": {},
   "outputs": [],
   "source": [
    "# prompted_snowdf = generated_transcripts_df.with_column(\"PROMPT\", F.call_udf(\"get_prompt\", F.col(\"CONVERSATION\")))"
   ]
  },
  {
   "cell_type": "code",
   "execution_count": 40,
   "id": "280217dd",
   "metadata": {},
   "outputs": [],
   "source": [
    "# zeroshort_prompted_snowdf = generated_transcripts_df.with_column(\"Zeroshort_PROMPT\", F.call_udf(\"get_qa_prompt_zeroshort\", F.col(\"CONVERSATION\")))"
   ]
  },
  {
   "cell_type": "code",
   "execution_count": 14,
   "id": "4e034dd5",
   "metadata": {},
   "outputs": [],
   "source": [
    "oneshort_prompted_snowdf = generated_transcripts_df.with_column(\"Oneshort_PROMPT\", F.call_udf(\"get_qa_prompt_oneshort\", F.col(\"CONVERSATION\")))"
   ]
  },
  {
   "cell_type": "code",
   "execution_count": 15,
   "id": "9c0e86fd",
   "metadata": {},
   "outputs": [
    {
     "data": {
      "text/html": [
       "<div>\n",
       "<style scoped>\n",
       "    .dataframe tbody tr th:only-of-type {\n",
       "        vertical-align: middle;\n",
       "    }\n",
       "\n",
       "    .dataframe tbody tr th {\n",
       "        vertical-align: top;\n",
       "    }\n",
       "\n",
       "    .dataframe thead th {\n",
       "        text-align: right;\n",
       "    }\n",
       "</style>\n",
       "<table border=\"1\" class=\"dataframe\">\n",
       "  <thead>\n",
       "    <tr style=\"text-align: right;\">\n",
       "      <th></th>\n",
       "      <th>DATETIME</th>\n",
       "      <th>AUDIOFILE</th>\n",
       "      <th>CONVERSATION</th>\n",
       "      <th>PRESIGNED_URL_PATH</th>\n",
       "      <th>DURATION</th>\n",
       "      <th>ONESHORT_PROMPT</th>\n",
       "    </tr>\n",
       "  </thead>\n",
       "  <tbody>\n",
       "    <tr>\n",
       "      <th>0</th>\n",
       "      <td>2023-11-11</td>\n",
       "      <td>audiofile1.mp3</td>\n",
       "      <td>Hello, this is Emily from AutoAssure Insurance...</td>\n",
       "      <td>https://sfc-prod3-ds1-16-customer-stage.s3.us-...</td>\n",
       "      <td>218.254271</td>\n",
       "      <td>\\n\\n&lt;s&gt;[INST]\\n&lt;&lt;SYS&gt;&gt;\\nYou are a expert in an...</td>\n",
       "    </tr>\n",
       "    <tr>\n",
       "      <th>1</th>\n",
       "      <td>2023-11-11</td>\n",
       "      <td>audiofile2.mp3</td>\n",
       "      <td>Hello, this is James from AutoAssure Insurance...</td>\n",
       "      <td>https://sfc-prod3-ds1-16-customer-stage.s3.us-...</td>\n",
       "      <td>197.705486</td>\n",
       "      <td>\\n\\n&lt;s&gt;[INST]\\n&lt;&lt;SYS&gt;&gt;\\nYou are a expert in an...</td>\n",
       "    </tr>\n",
       "  </tbody>\n",
       "</table>\n",
       "</div>"
      ],
      "text/plain": [
       "     DATETIME       AUDIOFILE  \\\n",
       "0  2023-11-11  audiofile1.mp3   \n",
       "1  2023-11-11  audiofile2.mp3   \n",
       "\n",
       "                                        CONVERSATION  \\\n",
       "0  Hello, this is Emily from AutoAssure Insurance...   \n",
       "1  Hello, this is James from AutoAssure Insurance...   \n",
       "\n",
       "                                  PRESIGNED_URL_PATH    DURATION  \\\n",
       "0  https://sfc-prod3-ds1-16-customer-stage.s3.us-...  218.254271   \n",
       "1  https://sfc-prod3-ds1-16-customer-stage.s3.us-...  197.705486   \n",
       "\n",
       "                                     ONESHORT_PROMPT  \n",
       "0  \\n\\n<s>[INST]\\n<<SYS>>\\nYou are a expert in an...  \n",
       "1  \\n\\n<s>[INST]\\n<<SYS>>\\nYou are a expert in an...  "
      ]
     },
     "execution_count": 15,
     "metadata": {},
     "output_type": "execute_result"
    }
   ],
   "source": [
    "oneshort_prompted_snowdf.limit(2).to_pandas()"
   ]
  },
  {
   "cell_type": "code",
   "execution_count": 16,
   "id": "b51546ae",
   "metadata": {},
   "outputs": [],
   "source": [
    "# zeroshort_prompted_snowdf.write.mode(\"overwrite\").save_as_table(\"ALLCLAIMS_QA_Zeroshort_PROMPTED\")\n",
    "oneshort_prompted_snowdf.write.mode(\"overwrite\").save_as_table(\"AudioConversation_With_Oneshort_PROMPT\")"
   ]
  },
  {
   "cell_type": "code",
   "execution_count": 44,
   "id": "71033772",
   "metadata": {},
   "outputs": [],
   "source": [
    "# zeroshort_prompted_snowdf = session.table(\"ALLCLAIMS_QA_Zeroshort_PROMPTED\")"
   ]
  },
  {
   "cell_type": "code",
   "execution_count": 45,
   "id": "3d4b32c8",
   "metadata": {},
   "outputs": [],
   "source": [
    "oneshort_prompted_snowdf = session.table(\"AudioConversation_With_Oneshort_PROMPT\")"
   ]
  },
  {
   "cell_type": "code",
   "execution_count": 46,
   "id": "70176d27",
   "metadata": {},
   "outputs": [],
   "source": [
    "# \n",
    "# oneshort_prompted_snowdf.show(2)"
   ]
  },
  {
   "cell_type": "code",
   "execution_count": 47,
   "id": "4d14b14b",
   "metadata": {},
   "outputs": [],
   "source": [
    "# response_table_name = \"TRANSCRIPT_INFO_EXTRACTED\""
   ]
  },
  {
   "cell_type": "code",
   "execution_count": 20,
   "id": "4cb2307f",
   "metadata": {},
   "outputs": [],
   "source": [
    "oneshort_info_extracted_snowdf = oneshort_prompted_snowdf.with_column(\"EXTRACTED_INFO\", F.call_builtin(\"SNOWFLAKE.CORTEX.COMPLETE\", F.lit('mistral-7b'), F.col(\"ONESHORT_PROMPT\")))"
   ]
  },
  {
   "cell_type": "code",
   "execution_count": 21,
   "id": "073c5509",
   "metadata": {},
   "outputs": [
    {
     "name": "stdout",
     "output_type": "stream",
     "text": [
      "CPU times: user 2 μs, sys: 0 ns, total: 2 μs\n",
      "Wall time: 4.05 μs\n"
     ]
    }
   ],
   "source": [
    "%%time\n",
    "# oneshort_test_info_extracted_snowdf = oneshort_test_snowdf.with_column(\"EXTRACTED_INFO\", F.call_builtin(\"snowflake.ml.COMPLETE\", F.lit('llama2-70b-chat'), F.col(\"ONESHORT_PROMPT\")))"
   ]
  },
  {
   "cell_type": "code",
   "execution_count": 50,
   "id": "e2dad679",
   "metadata": {},
   "outputs": [],
   "source": [
    "\n",
    "# oneshort_info_extracted_snowdf.select('EXTRACTED_INFO').show(2)"
   ]
  },
  {
   "cell_type": "code",
   "execution_count": 26,
   "id": "b1f3aa29",
   "metadata": {},
   "outputs": [
    {
     "ename": "SnowparkSQLException",
     "evalue": "(1304): 01bb6ac8-0000-8940-0001-466a0010b226: 100351 (P0000): Request failed for external function COMPLETE$V2 with remote service error: 400 '\"unknown model \\\"mistral-7b\\\"\"\n'; requests batch-id: 01bb6ac8-0000-8940-0001-466a0010b226:2:3:7:2; request batch size: 24 rows; request retries: 0; response time (last retry): 23.34ms",
     "output_type": "error",
     "traceback": [
      "\u001b[31m---------------------------------------------------------------------------\u001b[39m",
      "\u001b[31mSnowparkSQLException\u001b[39m                      Traceback (most recent call last)",
      "\u001b[36mFile \u001b[39m\u001b[32m<timed eval>:1\u001b[39m\n",
      "\u001b[36mFile \u001b[39m\u001b[32m/usr/local/python/3.12.1/lib/python3.12/site-packages/snowflake/snowpark/_internal/telemetry.py:328\u001b[39m, in \u001b[36mdfw_collect_api_telemetry.<locals>.wrap\u001b[39m\u001b[34m(*args, **kwargs)\u001b[39m\n\u001b[32m    326\u001b[39m \u001b[38;5;28;01mtry\u001b[39;00m:\n\u001b[32m    327\u001b[39m     \u001b[38;5;28;01mwith\u001b[39;00m ResourceUsageCollector() \u001b[38;5;28;01mas\u001b[39;00m resource_usage_collector:\n\u001b[32m--> \u001b[39m\u001b[32m328\u001b[39m         result = \u001b[43mfunc\u001b[49m\u001b[43m(\u001b[49m\u001b[43m*\u001b[49m\u001b[43margs\u001b[49m\u001b[43m,\u001b[49m\u001b[43m \u001b[49m\u001b[43m*\u001b[49m\u001b[43m*\u001b[49m\u001b[43mkwargs\u001b[49m\u001b[43m)\u001b[49m\n\u001b[32m    329\u001b[39m     resource_usage = resource_usage_collector.get_resource_usage()\n\u001b[32m    330\u001b[39m \u001b[38;5;28;01mfinally\u001b[39;00m:\n",
      "\u001b[36mFile \u001b[39m\u001b[32m/usr/local/python/3.12.1/lib/python3.12/site-packages/snowflake/snowpark/_internal/utils.py:1063\u001b[39m, in \u001b[36mpublicapi.<locals>.call_wrapper\u001b[39m\u001b[34m(*args, **kwargs)\u001b[39m\n\u001b[32m   1059\u001b[39m kwargs[\u001b[33m\"\u001b[39m\u001b[33m_emit_ast\u001b[39m\u001b[33m\"\u001b[39m] = is_ast_enabled()\n\u001b[32m   1061\u001b[39m \u001b[38;5;66;03m# TODO: Could modify internal docstring to display that users should not modify the _emit_ast parameter.\u001b[39;00m\n\u001b[32m-> \u001b[39m\u001b[32m1063\u001b[39m \u001b[38;5;28;01mreturn\u001b[39;00m \u001b[43mfunc\u001b[49m\u001b[43m(\u001b[49m\u001b[43m*\u001b[49m\u001b[43margs\u001b[49m\u001b[43m,\u001b[49m\u001b[43m \u001b[49m\u001b[43m*\u001b[49m\u001b[43m*\u001b[49m\u001b[43mkwargs\u001b[49m\u001b[43m)\u001b[49m\n",
      "\u001b[36mFile \u001b[39m\u001b[32m/usr/local/python/3.12.1/lib/python3.12/site-packages/snowflake/snowpark/dataframe_writer.py:497\u001b[39m, in \u001b[36mDataFrameWriter.save_as_table\u001b[39m\u001b[34m(self, table_name, mode, column_order, create_temp_table, table_type, clustering_keys, statement_params, block, comment, enable_schema_evolution, data_retention_time, max_data_extension_time, change_tracking, copy_grants, iceberg_config, _emit_ast)\u001b[39m\n\u001b[32m    479\u001b[39m create_table_logic_plan = SnowflakeCreateTable(\n\u001b[32m    480\u001b[39m     table_name,\n\u001b[32m    481\u001b[39m     column_names,\n\u001b[32m   (...)\u001b[39m\u001b[32m    494\u001b[39m     table_exists,\n\u001b[32m    495\u001b[39m )\n\u001b[32m    496\u001b[39m snowflake_plan = session._analyzer.resolve(create_table_logic_plan)\n\u001b[32m--> \u001b[39m\u001b[32m497\u001b[39m result = \u001b[43msession\u001b[49m\u001b[43m.\u001b[49m\u001b[43m_conn\u001b[49m\u001b[43m.\u001b[49m\u001b[43mexecute\u001b[49m\u001b[43m(\u001b[49m\n\u001b[32m    498\u001b[39m \u001b[43m    \u001b[49m\u001b[43msnowflake_plan\u001b[49m\u001b[43m,\u001b[49m\n\u001b[32m    499\u001b[39m \u001b[43m    \u001b[49m\u001b[43m_statement_params\u001b[49m\u001b[43m=\u001b[49m\u001b[43mstatement_params\u001b[49m\u001b[43m,\u001b[49m\n\u001b[32m    500\u001b[39m \u001b[43m    \u001b[49m\u001b[43mblock\u001b[49m\u001b[43m=\u001b[49m\u001b[43mblock\u001b[49m\u001b[43m,\u001b[49m\n\u001b[32m    501\u001b[39m \u001b[43m    \u001b[49m\u001b[43mdata_type\u001b[49m\u001b[43m=\u001b[49m\u001b[43m_AsyncResultType\u001b[49m\u001b[43m.\u001b[49m\u001b[43mNO_RESULT\u001b[49m\u001b[43m,\u001b[49m\n\u001b[32m    502\u001b[39m \u001b[43m    \u001b[49m\u001b[43m*\u001b[49m\u001b[43m*\u001b[49m\u001b[43mkwargs\u001b[49m\u001b[43m,\u001b[49m\n\u001b[32m    503\u001b[39m \u001b[43m\u001b[49m\u001b[43m)\u001b[49m\n\u001b[32m    504\u001b[39m \u001b[38;5;28;01mreturn\u001b[39;00m result \u001b[38;5;28;01mif\u001b[39;00m \u001b[38;5;129;01mnot\u001b[39;00m block \u001b[38;5;28;01melse\u001b[39;00m \u001b[38;5;28;01mNone\u001b[39;00m\n",
      "\u001b[36mFile \u001b[39m\u001b[32m/usr/local/python/3.12.1/lib/python3.12/site-packages/snowflake/snowpark/_internal/server_connection.py:624\u001b[39m, in \u001b[36mServerConnection.execute\u001b[39m\u001b[34m(self, plan, to_pandas, to_iter, to_arrow, block, data_type, log_on_exception, case_sensitive, **kwargs)\u001b[39m\n\u001b[32m    614\u001b[39m \u001b[38;5;28;01mif\u001b[39;00m (\n\u001b[32m    615\u001b[39m     is_in_stored_procedure()\n\u001b[32m    616\u001b[39m     \u001b[38;5;129;01mand\u001b[39;00m \u001b[38;5;129;01mnot\u001b[39;00m block\n\u001b[32m   (...)\u001b[39m\u001b[32m    619\u001b[39m     )\n\u001b[32m    620\u001b[39m ):  \u001b[38;5;66;03m# pragma: no cover\u001b[39;00m\n\u001b[32m    621\u001b[39m     \u001b[38;5;28;01mraise\u001b[39;00m \u001b[38;5;167;01mNotImplementedError\u001b[39;00m(\n\u001b[32m    622\u001b[39m         \u001b[33m\"\u001b[39m\u001b[33mAsync query is not supported in stored procedure yet\u001b[39m\u001b[33m\"\u001b[39m\n\u001b[32m    623\u001b[39m     )\n\u001b[32m--> \u001b[39m\u001b[32m624\u001b[39m result_set, result_meta = \u001b[38;5;28;43mself\u001b[39;49m\u001b[43m.\u001b[49m\u001b[43mget_result_set\u001b[49m\u001b[43m(\u001b[49m\n\u001b[32m    625\u001b[39m \u001b[43m    \u001b[49m\u001b[43mplan\u001b[49m\u001b[43m,\u001b[49m\n\u001b[32m    626\u001b[39m \u001b[43m    \u001b[49m\u001b[43mto_pandas\u001b[49m\u001b[43m,\u001b[49m\n\u001b[32m    627\u001b[39m \u001b[43m    \u001b[49m\u001b[43mto_iter\u001b[49m\u001b[43m,\u001b[49m\n\u001b[32m    628\u001b[39m \u001b[43m    \u001b[49m\u001b[43m*\u001b[49m\u001b[43m*\u001b[49m\u001b[43mkwargs\u001b[49m\u001b[43m,\u001b[49m\n\u001b[32m    629\u001b[39m \u001b[43m    \u001b[49m\u001b[43mblock\u001b[49m\u001b[43m=\u001b[49m\u001b[43mblock\u001b[49m\u001b[43m,\u001b[49m\n\u001b[32m    630\u001b[39m \u001b[43m    \u001b[49m\u001b[43mdata_type\u001b[49m\u001b[43m=\u001b[49m\u001b[43mdata_type\u001b[49m\u001b[43m,\u001b[49m\n\u001b[32m    631\u001b[39m \u001b[43m    \u001b[49m\u001b[43mlog_on_exception\u001b[49m\u001b[43m=\u001b[49m\u001b[43mlog_on_exception\u001b[49m\u001b[43m,\u001b[49m\n\u001b[32m    632\u001b[39m \u001b[43m    \u001b[49m\u001b[43mcase_sensitive\u001b[49m\u001b[43m=\u001b[49m\u001b[43mcase_sensitive\u001b[49m\u001b[43m,\u001b[49m\n\u001b[32m    633\u001b[39m \u001b[43m    \u001b[49m\u001b[43mto_arrow\u001b[49m\u001b[43m=\u001b[49m\u001b[43mto_arrow\u001b[49m\u001b[43m,\u001b[49m\n\u001b[32m    634\u001b[39m \u001b[43m\u001b[49m\u001b[43m)\u001b[49m\n\u001b[32m    635\u001b[39m \u001b[38;5;28;01mif\u001b[39;00m \u001b[38;5;129;01mnot\u001b[39;00m block:\n\u001b[32m    636\u001b[39m     \u001b[38;5;28;01mreturn\u001b[39;00m result_set\n",
      "\u001b[36mFile \u001b[39m\u001b[32m/usr/local/python/3.12.1/lib/python3.12/site-packages/snowflake/snowpark/_internal/analyzer/snowflake_plan.py:211\u001b[39m, in \u001b[36mSnowflakePlan.Decorator.wrap_exception.<locals>.wrap\u001b[39m\u001b[34m(*args, **kwargs)\u001b[39m\n\u001b[32m    207\u001b[39m \u001b[38;5;28;01melse\u001b[39;00m:\n\u001b[32m    208\u001b[39m     ne = SnowparkClientExceptionMessages.SQL_EXCEPTION_FROM_PROGRAMMING_ERROR(\n\u001b[32m    209\u001b[39m         e\n\u001b[32m    210\u001b[39m     )\n\u001b[32m--> \u001b[39m\u001b[32m211\u001b[39m     \u001b[38;5;28;01mraise\u001b[39;00m ne.with_traceback(tb) \u001b[38;5;28;01mfrom\u001b[39;00m\u001b[38;5;250m \u001b[39m\u001b[38;5;28;01mNone\u001b[39;00m\n",
      "\u001b[36mFile \u001b[39m\u001b[32m/usr/local/python/3.12.1/lib/python3.12/site-packages/snowflake/snowpark/_internal/analyzer/snowflake_plan.py:142\u001b[39m, in \u001b[36mSnowflakePlan.Decorator.wrap_exception.<locals>.wrap\u001b[39m\u001b[34m(*args, **kwargs)\u001b[39m\n\u001b[32m    140\u001b[39m \u001b[38;5;28;01mdef\u001b[39;00m\u001b[38;5;250m \u001b[39m\u001b[34mwrap\u001b[39m(*args, **kwargs):\n\u001b[32m    141\u001b[39m     \u001b[38;5;28;01mtry\u001b[39;00m:\n\u001b[32m--> \u001b[39m\u001b[32m142\u001b[39m         \u001b[38;5;28;01mreturn\u001b[39;00m \u001b[43mfunc\u001b[49m\u001b[43m(\u001b[49m\u001b[43m*\u001b[49m\u001b[43margs\u001b[49m\u001b[43m,\u001b[49m\u001b[43m \u001b[49m\u001b[43m*\u001b[49m\u001b[43m*\u001b[49m\u001b[43mkwargs\u001b[49m\u001b[43m)\u001b[49m\n\u001b[32m    143\u001b[39m     \u001b[38;5;28;01mexcept\u001b[39;00m snowflake.connector.errors.ProgrammingError \u001b[38;5;28;01mas\u001b[39;00m e:\n\u001b[32m    144\u001b[39m         query = \u001b[38;5;28mgetattr\u001b[39m(e, \u001b[33m\"\u001b[39m\u001b[33mquery\u001b[39m\u001b[33m\"\u001b[39m, \u001b[38;5;28;01mNone\u001b[39;00m)\n",
      "\u001b[36mFile \u001b[39m\u001b[32m/usr/local/python/3.12.1/lib/python3.12/site-packages/snowflake/snowpark/_internal/server_connection.py:746\u001b[39m, in \u001b[36mServerConnection.get_result_set\u001b[39m\u001b[34m(self, plan, to_pandas, to_iter, block, data_type, log_on_exception, case_sensitive, ignore_results, to_arrow, **kwargs)\u001b[39m\n\u001b[32m    744\u001b[39m     kwargs[DATAFRAME_AST_PARAMETER] = dataframe_ast\n\u001b[32m    745\u001b[39m is_final_query = i == \u001b[38;5;28mlen\u001b[39m(main_queries) - \u001b[32m1\u001b[39m\n\u001b[32m--> \u001b[39m\u001b[32m746\u001b[39m result = \u001b[38;5;28;43mself\u001b[39;49m\u001b[43m.\u001b[49m\u001b[43mrun_query\u001b[49m\u001b[43m(\u001b[49m\n\u001b[32m    747\u001b[39m \u001b[43m    \u001b[49m\u001b[43mfinal_query\u001b[49m\u001b[43m,\u001b[49m\n\u001b[32m    748\u001b[39m \u001b[43m    \u001b[49m\u001b[43mto_pandas\u001b[49m\u001b[43m,\u001b[49m\n\u001b[32m    749\u001b[39m \u001b[43m    \u001b[49m\u001b[43mto_iter\u001b[49m\u001b[43m \u001b[49m\u001b[38;5;129;43;01mand\u001b[39;49;00m\u001b[43m \u001b[49m\u001b[43mis_final_query\u001b[49m\u001b[43m,\u001b[49m\n\u001b[32m    750\u001b[39m \u001b[43m    \u001b[49m\u001b[43mis_ddl_on_temp_object\u001b[49m\u001b[43m=\u001b[49m\u001b[43mquery\u001b[49m\u001b[43m.\u001b[49m\u001b[43mis_ddl_on_temp_object\u001b[49m\u001b[43m,\u001b[49m\n\u001b[32m    751\u001b[39m \u001b[43m    \u001b[49m\u001b[43mblock\u001b[49m\u001b[43m=\u001b[49m\u001b[38;5;129;43;01mnot\u001b[39;49;00m\u001b[43m \u001b[49m\u001b[43mis_last\u001b[49m\u001b[43m,\u001b[49m\n\u001b[32m    752\u001b[39m \u001b[43m    \u001b[49m\u001b[43mdata_type\u001b[49m\u001b[43m=\u001b[49m\u001b[43mdata_type\u001b[49m\u001b[43m,\u001b[49m\n\u001b[32m    753\u001b[39m \u001b[43m    \u001b[49m\u001b[43masync_job_plan\u001b[49m\u001b[43m=\u001b[49m\u001b[43mplan\u001b[49m\u001b[43m,\u001b[49m\n\u001b[32m    754\u001b[39m \u001b[43m    \u001b[49m\u001b[43mlog_on_exception\u001b[49m\u001b[43m=\u001b[49m\u001b[43mlog_on_exception\u001b[49m\u001b[43m,\u001b[49m\n\u001b[32m    755\u001b[39m \u001b[43m    \u001b[49m\u001b[43mcase_sensitive\u001b[49m\u001b[43m=\u001b[49m\u001b[43mcase_sensitive\u001b[49m\u001b[43m,\u001b[49m\n\u001b[32m    756\u001b[39m \u001b[43m    \u001b[49m\u001b[43mparams\u001b[49m\u001b[43m=\u001b[49m\u001b[43mquery\u001b[49m\u001b[43m.\u001b[49m\u001b[43mparams\u001b[49m\u001b[43m,\u001b[49m\n\u001b[32m    757\u001b[39m \u001b[43m    \u001b[49m\u001b[43mignore_results\u001b[49m\u001b[43m=\u001b[49m\u001b[43mignore_results\u001b[49m\u001b[43m,\u001b[49m\n\u001b[32m    758\u001b[39m \u001b[43m    \u001b[49m\u001b[43masync_post_actions\u001b[49m\u001b[43m=\u001b[49m\u001b[43mpost_actions\u001b[49m\u001b[43m,\u001b[49m\n\u001b[32m    759\u001b[39m \u001b[43m    \u001b[49m\u001b[43mto_arrow\u001b[49m\u001b[43m=\u001b[49m\u001b[43mto_arrow\u001b[49m\u001b[43m \u001b[49m\u001b[38;5;129;43;01mand\u001b[39;49;00m\u001b[43m \u001b[49m\u001b[43mis_final_query\u001b[49m\u001b[43m,\u001b[49m\n\u001b[32m    760\u001b[39m \u001b[43m    \u001b[49m\u001b[43m*\u001b[49m\u001b[43m*\u001b[49m\u001b[43mkwargs\u001b[49m\u001b[43m,\u001b[49m\n\u001b[32m    761\u001b[39m \u001b[43m\u001b[49m\u001b[43m)\u001b[49m\n\u001b[32m    762\u001b[39m placeholders[query.query_id_place_holder] = (\n\u001b[32m    763\u001b[39m     result[\u001b[33m\"\u001b[39m\u001b[33msfqid\u001b[39m\u001b[33m\"\u001b[39m] \u001b[38;5;28;01mif\u001b[39;00m \u001b[38;5;129;01mnot\u001b[39;00m is_last \u001b[38;5;28;01melse\u001b[39;00m result.query_id\n\u001b[32m    764\u001b[39m )\n\u001b[32m    765\u001b[39m result_meta = get_new_description(\u001b[38;5;28mself\u001b[39m._cursor)\n",
      "\u001b[36mFile \u001b[39m\u001b[32m/usr/local/python/3.12.1/lib/python3.12/site-packages/snowflake/snowpark/_internal/server_connection.py:133\u001b[39m, in \u001b[36mServerConnection._Decorator.wrap_exception.<locals>.wrap\u001b[39m\u001b[34m(*args, **kwargs)\u001b[39m\n\u001b[32m    129\u001b[39m     \u001b[38;5;28;01mraise\u001b[39;00m SnowparkClientExceptionMessages.SERVER_SESSION_EXPIRED(\n\u001b[32m    130\u001b[39m         ex.cause\n\u001b[32m    131\u001b[39m     )\n\u001b[32m    132\u001b[39m \u001b[38;5;28;01mexcept\u001b[39;00m \u001b[38;5;167;01mException\u001b[39;00m \u001b[38;5;28;01mas\u001b[39;00m ex:\n\u001b[32m--> \u001b[39m\u001b[32m133\u001b[39m     \u001b[38;5;28;01mraise\u001b[39;00m ex\n",
      "\u001b[36mFile \u001b[39m\u001b[32m/usr/local/python/3.12.1/lib/python3.12/site-packages/snowflake/snowpark/_internal/server_connection.py:127\u001b[39m, in \u001b[36mServerConnection._Decorator.wrap_exception.<locals>.wrap\u001b[39m\u001b[34m(*args, **kwargs)\u001b[39m\n\u001b[32m    125\u001b[39m     \u001b[38;5;28;01mraise\u001b[39;00m SnowparkClientExceptionMessages.SERVER_SESSION_HAS_BEEN_CLOSED()\n\u001b[32m    126\u001b[39m \u001b[38;5;28;01mtry\u001b[39;00m:\n\u001b[32m--> \u001b[39m\u001b[32m127\u001b[39m     \u001b[38;5;28;01mreturn\u001b[39;00m \u001b[43mfunc\u001b[49m\u001b[43m(\u001b[49m\u001b[43m*\u001b[49m\u001b[43margs\u001b[49m\u001b[43m,\u001b[49m\u001b[43m \u001b[49m\u001b[43m*\u001b[49m\u001b[43m*\u001b[49m\u001b[43mkwargs\u001b[49m\u001b[43m)\u001b[49m\n\u001b[32m    128\u001b[39m \u001b[38;5;28;01mexcept\u001b[39;00m ReauthenticationRequest \u001b[38;5;28;01mas\u001b[39;00m ex:\n\u001b[32m    129\u001b[39m     \u001b[38;5;28;01mraise\u001b[39;00m SnowparkClientExceptionMessages.SERVER_SESSION_EXPIRED(\n\u001b[32m    130\u001b[39m         ex.cause\n\u001b[32m    131\u001b[39m     )\n",
      "\u001b[36mFile \u001b[39m\u001b[32m/usr/local/python/3.12.1/lib/python3.12/site-packages/snowflake/snowpark/_internal/server_connection.py:520\u001b[39m, in \u001b[36mServerConnection.run_query\u001b[39m\u001b[34m(self, query, to_pandas, to_iter, is_ddl_on_temp_object, block, data_type, async_job_plan, log_on_exception, case_sensitive, params, num_statements, ignore_results, async_post_actions, to_arrow, **kwargs)\u001b[39m\n\u001b[32m    518\u001b[39m         query_id_log = \u001b[33mf\u001b[39m\u001b[33m\"\u001b[39m\u001b[33m [queryID: \u001b[39m\u001b[38;5;132;01m{\u001b[39;00mex.sfqid\u001b[38;5;132;01m}\u001b[39;00m\u001b[33m]\u001b[39m\u001b[33m\"\u001b[39m \u001b[38;5;28;01mif\u001b[39;00m \u001b[38;5;28mhasattr\u001b[39m(ex, \u001b[33m\"\u001b[39m\u001b[33msfqid\u001b[39m\u001b[33m\"\u001b[39m) \u001b[38;5;28;01melse\u001b[39;00m \u001b[33m\"\u001b[39m\u001b[33m\"\u001b[39m\n\u001b[32m    519\u001b[39m         logger.error(\u001b[33mf\u001b[39m\u001b[33m\"\u001b[39m\u001b[33mFailed to execute query\u001b[39m\u001b[38;5;132;01m{\u001b[39;00mquery_id_log\u001b[38;5;132;01m}\u001b[39;00m\u001b[33m \u001b[39m\u001b[38;5;132;01m{\u001b[39;00mquery\u001b[38;5;132;01m}\u001b[39;00m\u001b[38;5;130;01m\\n\u001b[39;00m\u001b[38;5;132;01m{\u001b[39;00mex\u001b[38;5;132;01m}\u001b[39;00m\u001b[33m\"\u001b[39m)\n\u001b[32m--> \u001b[39m\u001b[32m520\u001b[39m     \u001b[38;5;28;01mraise\u001b[39;00m ex\n\u001b[32m    522\u001b[39m \u001b[38;5;66;03m# fetch_pandas_all/batches() only works for SELECT statements\u001b[39;00m\n\u001b[32m    523\u001b[39m \u001b[38;5;66;03m# We call fetchall() if fetch_pandas_all/batches() fails,\u001b[39;00m\n\u001b[32m    524\u001b[39m \u001b[38;5;66;03m# because when the query plan has multiple queries, it will\u001b[39;00m\n\u001b[32m    525\u001b[39m \u001b[38;5;66;03m# have non-select statements, and it shouldn't fail if the user\u001b[39;00m\n\u001b[32m    526\u001b[39m \u001b[38;5;66;03m# calls to_pandas() to execute the query.\u001b[39;00m\n\u001b[32m    527\u001b[39m \u001b[38;5;28;01mif\u001b[39;00m block:\n",
      "\u001b[36mFile \u001b[39m\u001b[32m/usr/local/python/3.12.1/lib/python3.12/site-packages/snowflake/snowpark/_internal/server_connection.py:505\u001b[39m, in \u001b[36mServerConnection.run_query\u001b[39m\u001b[34m(self, query, to_pandas, to_iter, is_ddl_on_temp_object, block, data_type, async_job_plan, log_on_exception, case_sensitive, params, num_statements, ignore_results, async_post_actions, to_arrow, **kwargs)\u001b[39m\n\u001b[32m    503\u001b[39m     kwargs[\u001b[33m\"\u001b[39m\u001b[33m_statement_params\u001b[39m\u001b[33m\"\u001b[39m][\u001b[33m\"\u001b[39m\u001b[33mSNOWPARK_SKIP_TXN_COMMIT_IN_DDL\u001b[39m\u001b[33m\"\u001b[39m] = \u001b[38;5;28;01mTrue\u001b[39;00m\n\u001b[32m    504\u001b[39m \u001b[38;5;28;01mif\u001b[39;00m block:\n\u001b[32m--> \u001b[39m\u001b[32m505\u001b[39m     results_cursor = \u001b[38;5;28;43mself\u001b[39;49m\u001b[43m.\u001b[49m\u001b[43mexecute_and_notify_query_listener\u001b[49m\u001b[43m(\u001b[49m\n\u001b[32m    506\u001b[39m \u001b[43m        \u001b[49m\u001b[43mquery\u001b[49m\u001b[43m,\u001b[49m\u001b[43m \u001b[49m\u001b[43mparams\u001b[49m\u001b[43m=\u001b[49m\u001b[43mparams\u001b[49m\u001b[43m,\u001b[49m\u001b[43m \u001b[49m\u001b[43m*\u001b[49m\u001b[43m*\u001b[49m\u001b[43mkwargs\u001b[49m\n\u001b[32m    507\u001b[39m \u001b[43m    \u001b[49m\u001b[43m)\u001b[49m\n\u001b[32m    508\u001b[39m     logger.debug(\u001b[33mf\u001b[39m\u001b[33m\"\u001b[39m\u001b[33mExecute query [queryID: \u001b[39m\u001b[38;5;132;01m{\u001b[39;00mresults_cursor.sfqid\u001b[38;5;132;01m}\u001b[39;00m\u001b[33m] \u001b[39m\u001b[38;5;132;01m{\u001b[39;00mquery\u001b[38;5;132;01m}\u001b[39;00m\u001b[33m\"\u001b[39m)\n\u001b[32m    509\u001b[39m \u001b[38;5;28;01melse\u001b[39;00m:\n",
      "\u001b[36mFile \u001b[39m\u001b[32m/usr/local/python/3.12.1/lib/python3.12/site-packages/snowflake/snowpark/_internal/server_connection.py:446\u001b[39m, in \u001b[36mServerConnection.execute_and_notify_query_listener\u001b[39m\u001b[34m(self, query, **kwargs)\u001b[39m\n\u001b[32m    442\u001b[39m     err_query = ex.query \u001b[38;5;28;01mif\u001b[39;00m \u001b[38;5;28misinstance\u001b[39m(ex, Error) \u001b[38;5;28;01melse\u001b[39;00m query\n\u001b[32m    443\u001b[39m     \u001b[38;5;28mself\u001b[39m.notify_query_listeners(\n\u001b[32m    444\u001b[39m         QueryRecord(sfqid, err_query, \u001b[38;5;28;01mFalse\u001b[39;00m), is_error=\u001b[38;5;28;01mTrue\u001b[39;00m, **notify_kwargs\n\u001b[32m    445\u001b[39m     )\n\u001b[32m--> \u001b[39m\u001b[32m446\u001b[39m     \u001b[38;5;28;01mraise\u001b[39;00m ex\n\u001b[32m    448\u001b[39m notify_kwargs[\u001b[33m\"\u001b[39m\u001b[33mrequestId\u001b[39m\u001b[33m\"\u001b[39m] = \u001b[38;5;28mstr\u001b[39m(results_cursor._request_id)\n\u001b[32m    449\u001b[39m \u001b[38;5;28mself\u001b[39m.notify_query_listeners(\n\u001b[32m    450\u001b[39m     QueryRecord(results_cursor.sfqid, results_cursor.query), **notify_kwargs\n\u001b[32m    451\u001b[39m )\n",
      "\u001b[36mFile \u001b[39m\u001b[32m/usr/local/python/3.12.1/lib/python3.12/site-packages/snowflake/snowpark/_internal/server_connection.py:437\u001b[39m, in \u001b[36mServerConnection.execute_and_notify_query_listener\u001b[39m\u001b[34m(self, query, **kwargs)\u001b[39m\n\u001b[32m    434\u001b[39m     notify_kwargs[\u001b[33m\"\u001b[39m\u001b[33mdataframeAst\u001b[39m\u001b[33m\"\u001b[39m] = kwargs[DATAFRAME_AST_PARAMETER]\n\u001b[32m    436\u001b[39m \u001b[38;5;28;01mtry\u001b[39;00m:\n\u001b[32m--> \u001b[39m\u001b[32m437\u001b[39m     results_cursor = \u001b[38;5;28;43mself\u001b[39;49m\u001b[43m.\u001b[49m\u001b[43m_cursor\u001b[49m\u001b[43m.\u001b[49m\u001b[43mexecute\u001b[49m\u001b[43m(\u001b[49m\u001b[43mquery\u001b[49m\u001b[43m,\u001b[49m\u001b[43m \u001b[49m\u001b[43m*\u001b[49m\u001b[43m*\u001b[49m\u001b[43mkwargs\u001b[49m\u001b[43m)\u001b[49m\n\u001b[32m    438\u001b[39m \u001b[38;5;28;01mexcept\u001b[39;00m \u001b[38;5;167;01mException\u001b[39;00m \u001b[38;5;28;01mas\u001b[39;00m ex:\n\u001b[32m    439\u001b[39m     notify_kwargs[\u001b[33m\"\u001b[39m\u001b[33mrequestId\u001b[39m\u001b[33m\"\u001b[39m] = \u001b[38;5;28;01mNone\u001b[39;00m\n",
      "\u001b[36mFile \u001b[39m\u001b[32m/usr/local/python/3.12.1/lib/python3.12/site-packages/snowflake/connector/cursor.py:1104\u001b[39m, in \u001b[36mSnowflakeCursor.execute\u001b[39m\u001b[34m(self, command, params, _bind_stage, timeout, _exec_async, _no_retry, _do_reset, _put_callback, _put_azure_callback, _put_callback_output_stream, _get_callback, _get_azure_callback, _get_callback_output_stream, _show_progress_bar, _statement_params, _is_internal, _describe_only, _no_results, _is_put_get, _raise_put_get_error, _force_put_overwrite, _skip_upload_on_content_match, file_stream, num_statements, _force_qmark_paramstyle, _dataframe_ast)\u001b[39m\n\u001b[32m   1100\u001b[39m     is_integrity_error = (\n\u001b[32m   1101\u001b[39m         code == \u001b[33m\"\u001b[39m\u001b[33m100072\u001b[39m\u001b[33m\"\u001b[39m\n\u001b[32m   1102\u001b[39m     )  \u001b[38;5;66;03m# NULL result in a non-nullable column\u001b[39;00m\n\u001b[32m   1103\u001b[39m     error_class = IntegrityError \u001b[38;5;28;01mif\u001b[39;00m is_integrity_error \u001b[38;5;28;01melse\u001b[39;00m ProgrammingError\n\u001b[32m-> \u001b[39m\u001b[32m1104\u001b[39m     \u001b[43mError\u001b[49m\u001b[43m.\u001b[49m\u001b[43merrorhandler_wrapper\u001b[49m\u001b[43m(\u001b[49m\u001b[38;5;28;43mself\u001b[39;49m\u001b[43m.\u001b[49m\u001b[43mconnection\u001b[49m\u001b[43m,\u001b[49m\u001b[43m \u001b[49m\u001b[38;5;28;43mself\u001b[39;49m\u001b[43m,\u001b[49m\u001b[43m \u001b[49m\u001b[43merror_class\u001b[49m\u001b[43m,\u001b[49m\u001b[43m \u001b[49m\u001b[43merrvalue\u001b[49m\u001b[43m)\u001b[49m\n\u001b[32m   1105\u001b[39m \u001b[38;5;28;01mreturn\u001b[39;00m \u001b[38;5;28mself\u001b[39m\n",
      "\u001b[36mFile \u001b[39m\u001b[32m/usr/local/python/3.12.1/lib/python3.12/site-packages/snowflake/connector/errors.py:283\u001b[39m, in \u001b[36mError.errorhandler_wrapper\u001b[39m\u001b[34m(connection, cursor, error_class, error_value)\u001b[39m\n\u001b[32m    260\u001b[39m \u001b[38;5;129m@staticmethod\u001b[39m\n\u001b[32m    261\u001b[39m \u001b[38;5;28;01mdef\u001b[39;00m\u001b[38;5;250m \u001b[39m\u001b[34merrorhandler_wrapper\u001b[39m(\n\u001b[32m    262\u001b[39m     connection: SnowflakeConnection | \u001b[38;5;28;01mNone\u001b[39;00m,\n\u001b[32m   (...)\u001b[39m\u001b[32m    265\u001b[39m     error_value: \u001b[38;5;28mdict\u001b[39m[\u001b[38;5;28mstr\u001b[39m, Any],\n\u001b[32m    266\u001b[39m ) -> \u001b[38;5;28;01mNone\u001b[39;00m:\n\u001b[32m    267\u001b[39m \u001b[38;5;250m    \u001b[39m\u001b[33;03m\"\"\"Error handler wrapper that calls the errorhandler method.\u001b[39;00m\n\u001b[32m    268\u001b[39m \n\u001b[32m    269\u001b[39m \u001b[33;03m    Args:\u001b[39;00m\n\u001b[32m   (...)\u001b[39m\u001b[32m    280\u001b[39m \u001b[33;03m        exception to the first handler in that order.\u001b[39;00m\n\u001b[32m    281\u001b[39m \u001b[33;03m    \"\"\"\u001b[39;00m\n\u001b[32m--> \u001b[39m\u001b[32m283\u001b[39m     handed_over = \u001b[43mError\u001b[49m\u001b[43m.\u001b[49m\u001b[43mhand_to_other_handler\u001b[49m\u001b[43m(\u001b[49m\n\u001b[32m    284\u001b[39m \u001b[43m        \u001b[49m\u001b[43mconnection\u001b[49m\u001b[43m,\u001b[49m\n\u001b[32m    285\u001b[39m \u001b[43m        \u001b[49m\u001b[43mcursor\u001b[49m\u001b[43m,\u001b[49m\n\u001b[32m    286\u001b[39m \u001b[43m        \u001b[49m\u001b[43merror_class\u001b[49m\u001b[43m,\u001b[49m\n\u001b[32m    287\u001b[39m \u001b[43m        \u001b[49m\u001b[43merror_value\u001b[49m\u001b[43m,\u001b[49m\n\u001b[32m    288\u001b[39m \u001b[43m    \u001b[49m\u001b[43m)\u001b[49m\n\u001b[32m    289\u001b[39m     \u001b[38;5;28;01mif\u001b[39;00m \u001b[38;5;129;01mnot\u001b[39;00m handed_over:\n\u001b[32m    290\u001b[39m         \u001b[38;5;28;01mraise\u001b[39;00m Error.errorhandler_make_exception(\n\u001b[32m    291\u001b[39m             error_class,\n\u001b[32m    292\u001b[39m             error_value,\n\u001b[32m    293\u001b[39m         )\n",
      "\u001b[36mFile \u001b[39m\u001b[32m/usr/local/python/3.12.1/lib/python3.12/site-packages/snowflake/connector/errors.py:338\u001b[39m, in \u001b[36mError.hand_to_other_handler\u001b[39m\u001b[34m(connection, cursor, error_class, error_value)\u001b[39m\n\u001b[32m    336\u001b[39m \u001b[38;5;28;01mif\u001b[39;00m cursor \u001b[38;5;129;01mis\u001b[39;00m \u001b[38;5;129;01mnot\u001b[39;00m \u001b[38;5;28;01mNone\u001b[39;00m:\n\u001b[32m    337\u001b[39m     cursor.messages.append((error_class, error_value))\n\u001b[32m--> \u001b[39m\u001b[32m338\u001b[39m     \u001b[43mcursor\u001b[49m\u001b[43m.\u001b[49m\u001b[43merrorhandler\u001b[49m\u001b[43m(\u001b[49m\u001b[43mconnection\u001b[49m\u001b[43m,\u001b[49m\u001b[43m \u001b[49m\u001b[43mcursor\u001b[49m\u001b[43m,\u001b[49m\u001b[43m \u001b[49m\u001b[43merror_class\u001b[49m\u001b[43m,\u001b[49m\u001b[43m \u001b[49m\u001b[43merror_value\u001b[49m\u001b[43m)\u001b[49m\n\u001b[32m    339\u001b[39m     \u001b[38;5;28;01mreturn\u001b[39;00m \u001b[38;5;28;01mTrue\u001b[39;00m\n\u001b[32m    340\u001b[39m \u001b[38;5;28;01melif\u001b[39;00m connection \u001b[38;5;129;01mis\u001b[39;00m \u001b[38;5;129;01mnot\u001b[39;00m \u001b[38;5;28;01mNone\u001b[39;00m:\n",
      "\u001b[36mFile \u001b[39m\u001b[32m/usr/local/python/3.12.1/lib/python3.12/site-packages/snowflake/connector/errors.py:214\u001b[39m, in \u001b[36mError.default_errorhandler\u001b[39m\u001b[34m(connection, cursor, error_class, error_value)\u001b[39m\n\u001b[32m    212\u001b[39m errno = error_value.get(\u001b[33m\"\u001b[39m\u001b[33merrno\u001b[39m\u001b[33m\"\u001b[39m)\n\u001b[32m    213\u001b[39m done_format_msg = error_value.get(\u001b[33m\"\u001b[39m\u001b[33mdone_format_msg\u001b[39m\u001b[33m\"\u001b[39m)\n\u001b[32m--> \u001b[39m\u001b[32m214\u001b[39m \u001b[38;5;28;01mraise\u001b[39;00m error_class(\n\u001b[32m    215\u001b[39m     msg=error_value.get(\u001b[33m\"\u001b[39m\u001b[33mmsg\u001b[39m\u001b[33m\"\u001b[39m),\n\u001b[32m    216\u001b[39m     errno=\u001b[38;5;28;01mNone\u001b[39;00m \u001b[38;5;28;01mif\u001b[39;00m errno \u001b[38;5;129;01mis\u001b[39;00m \u001b[38;5;28;01mNone\u001b[39;00m \u001b[38;5;28;01melse\u001b[39;00m \u001b[38;5;28mint\u001b[39m(errno),\n\u001b[32m    217\u001b[39m     sqlstate=error_value.get(\u001b[33m\"\u001b[39m\u001b[33msqlstate\u001b[39m\u001b[33m\"\u001b[39m),\n\u001b[32m    218\u001b[39m     sfqid=error_value.get(\u001b[33m\"\u001b[39m\u001b[33msfqid\u001b[39m\u001b[33m\"\u001b[39m),\n\u001b[32m    219\u001b[39m     query=error_value.get(\u001b[33m\"\u001b[39m\u001b[33mquery\u001b[39m\u001b[33m\"\u001b[39m),\n\u001b[32m    220\u001b[39m     done_format_msg=(\n\u001b[32m    221\u001b[39m         \u001b[38;5;28;01mNone\u001b[39;00m \u001b[38;5;28;01mif\u001b[39;00m done_format_msg \u001b[38;5;129;01mis\u001b[39;00m \u001b[38;5;28;01mNone\u001b[39;00m \u001b[38;5;28;01melse\u001b[39;00m \u001b[38;5;28mbool\u001b[39m(done_format_msg)\n\u001b[32m    222\u001b[39m     ),\n\u001b[32m    223\u001b[39m     connection=connection,\n\u001b[32m    224\u001b[39m     cursor=cursor,\n\u001b[32m    225\u001b[39m )\n",
      "\u001b[31mSnowparkSQLException\u001b[39m: (1304): 01bb6ac8-0000-8940-0001-466a0010b226: 100351 (P0000): Request failed for external function COMPLETE$V2 with remote service error: 400 '\"unknown model \\\"mistral-7b\\\"\"\n'; requests batch-id: 01bb6ac8-0000-8940-0001-466a0010b226:2:3:7:2; request batch size: 24 rows; request retries: 0; response time (last retry): 23.34ms"
     ]
    }
   ],
   "source": [
    "%%time\n",
    "oneshort_info_extracted_snowdf.write.mode('overwrite').save_as_table(\"TRANSCRIPT_INFO_EXTRACTED_QA\")\n"
   ]
  },
  {
   "cell_type": "markdown",
   "id": "dd23f9c4",
   "metadata": {},
   "source": [
    "## Loading AUDIO_CLAIMS_EXTRACTED_INFO"
   ]
  },
  {
   "cell_type": "code",
   "execution_count": 52,
   "id": "f49bbb0e",
   "metadata": {},
   "outputs": [
    {
     "data": {
      "text/plain": [
       "[Row(status='Statement executed successfully.')]"
      ]
     },
     "execution_count": 52,
     "metadata": {},
     "output_type": "execute_result"
    }
   ],
   "source": [
    "# session.sql(\"truncate table AUDIO_CLAIMS_EXTRACTED_INFO\").collect()"
   ]
  },
  {
   "cell_type": "code",
   "execution_count": 23,
   "id": "be47e6fe",
   "metadata": {},
   "outputs": [
    {
     "data": {
      "text/plain": [
       "[Row(status='Table AUDIO_CLAIMS_EXTRACTED_INFO successfully created.')]"
      ]
     },
     "execution_count": 23,
     "metadata": {},
     "output_type": "execute_result"
    }
   ],
   "source": [
    "#creating the AUDIO_CLAIMS_EXTRACTED_INFO table\n",
    "\n",
    "session.sql('''\n",
    "create or replace TABLE AUDIO_CLAIMS_EXTRACTED_INFO \n",
    "    (\n",
    "        DATETIME DATE,\n",
    "        AUDIO_FILE_NAME VARCHAR(100),\n",
    "        AUDIO_FULL_FILE_PATH VARCHAR(16777216),\n",
    "        RAW_CONVERSATION VARCHAR(16777216),\n",
    "        PROMPTED_CONVERSATION VARCHAR(16777216),\n",
    "        DURATION FLOAT,\n",
    "        CALL_DETAILS VARIANT,\n",
    "        CALL_SUMMARY VARCHAR(16777216),\n",
    "        CALL_SENTIMENT FLOAT,\n",
    "        REPONSE_GIVEN FLOAT\n",
    "    )\n",
    "''').collect()"
   ]
  },
  {
   "cell_type": "code",
   "execution_count": 25,
   "id": "1c05775e",
   "metadata": {},
   "outputs": [
    {
     "ename": "SnowparkSQLException",
     "evalue": "(1304): 01bb6ac6-0000-89f8-0001-466a0010a2d6: 002003 (42S02): SQL compilation error:\nObject 'TRANSCRIPT_INFO_EXTRACTED_QA' does not exist or not authorized.",
     "output_type": "error",
     "traceback": [
      "\u001b[31m---------------------------------------------------------------------------\u001b[39m",
      "\u001b[31mSnowparkSQLException\u001b[39m                      Traceback (most recent call last)",
      "\u001b[36mFile \u001b[39m\u001b[32m<timed eval>:67\u001b[39m\n",
      "\u001b[36mFile \u001b[39m\u001b[32m/usr/local/python/3.12.1/lib/python3.12/site-packages/snowflake/snowpark/_internal/telemetry.py:290\u001b[39m, in \u001b[36mdf_collect_api_telemetry.<locals>.wrap\u001b[39m\u001b[34m(*args, **kwargs)\u001b[39m\n\u001b[32m    288\u001b[39m \u001b[38;5;28;01mtry\u001b[39;00m:\n\u001b[32m    289\u001b[39m     \u001b[38;5;28;01mwith\u001b[39;00m ResourceUsageCollector() \u001b[38;5;28;01mas\u001b[39;00m resource_usage_collector:\n\u001b[32m--> \u001b[39m\u001b[32m290\u001b[39m         result = \u001b[43mfunc\u001b[49m\u001b[43m(\u001b[49m\u001b[43m*\u001b[49m\u001b[43margs\u001b[49m\u001b[43m,\u001b[49m\u001b[43m \u001b[49m\u001b[43m*\u001b[49m\u001b[43m*\u001b[49m\u001b[43mkwargs\u001b[49m\u001b[43m)\u001b[49m\n\u001b[32m    291\u001b[39m     resource_usage = resource_usage_collector.get_resource_usage()\n\u001b[32m    292\u001b[39m \u001b[38;5;28;01mfinally\u001b[39;00m:\n",
      "\u001b[36mFile \u001b[39m\u001b[32m/usr/local/python/3.12.1/lib/python3.12/site-packages/snowflake/snowpark/_internal/utils.py:1063\u001b[39m, in \u001b[36mpublicapi.<locals>.call_wrapper\u001b[39m\u001b[34m(*args, **kwargs)\u001b[39m\n\u001b[32m   1059\u001b[39m kwargs[\u001b[33m\"\u001b[39m\u001b[33m_emit_ast\u001b[39m\u001b[33m\"\u001b[39m] = is_ast_enabled()\n\u001b[32m   1061\u001b[39m \u001b[38;5;66;03m# TODO: Could modify internal docstring to display that users should not modify the _emit_ast parameter.\u001b[39;00m\n\u001b[32m-> \u001b[39m\u001b[32m1063\u001b[39m \u001b[38;5;28;01mreturn\u001b[39;00m \u001b[43mfunc\u001b[49m\u001b[43m(\u001b[49m\u001b[43m*\u001b[49m\u001b[43margs\u001b[49m\u001b[43m,\u001b[49m\u001b[43m \u001b[49m\u001b[43m*\u001b[49m\u001b[43m*\u001b[49m\u001b[43mkwargs\u001b[49m\u001b[43m)\u001b[49m\n",
      "\u001b[36mFile \u001b[39m\u001b[32m/usr/local/python/3.12.1/lib/python3.12/site-packages/snowflake/snowpark/dataframe.py:721\u001b[39m, in \u001b[36mDataFrame.collect\u001b[39m\u001b[34m(self, statement_params, block, log_on_exception, case_sensitive, _emit_ast)\u001b[39m\n\u001b[32m    718\u001b[39m     _, kwargs[DATAFRAME_AST_PARAMETER] = \u001b[38;5;28mself\u001b[39m._session._ast_batch.flush()\n\u001b[32m    720\u001b[39m \u001b[38;5;28;01mwith\u001b[39;00m open_telemetry_context_manager(\u001b[38;5;28mself\u001b[39m.collect, \u001b[38;5;28mself\u001b[39m):\n\u001b[32m--> \u001b[39m\u001b[32m721\u001b[39m     \u001b[38;5;28;01mreturn\u001b[39;00m \u001b[38;5;28;43mself\u001b[39;49m\u001b[43m.\u001b[49m\u001b[43m_internal_collect_with_tag_no_telemetry\u001b[49m\u001b[43m(\u001b[49m\n\u001b[32m    722\u001b[39m \u001b[43m        \u001b[49m\u001b[43mstatement_params\u001b[49m\u001b[43m=\u001b[49m\u001b[43mstatement_params\u001b[49m\u001b[43m,\u001b[49m\n\u001b[32m    723\u001b[39m \u001b[43m        \u001b[49m\u001b[43mblock\u001b[49m\u001b[43m=\u001b[49m\u001b[43mblock\u001b[49m\u001b[43m,\u001b[49m\n\u001b[32m    724\u001b[39m \u001b[43m        \u001b[49m\u001b[43mlog_on_exception\u001b[49m\u001b[43m=\u001b[49m\u001b[43mlog_on_exception\u001b[49m\u001b[43m,\u001b[49m\n\u001b[32m    725\u001b[39m \u001b[43m        \u001b[49m\u001b[43mcase_sensitive\u001b[49m\u001b[43m=\u001b[49m\u001b[43mcase_sensitive\u001b[49m\u001b[43m,\u001b[49m\n\u001b[32m    726\u001b[39m \u001b[43m        \u001b[49m\u001b[43m*\u001b[49m\u001b[43m*\u001b[49m\u001b[43mkwargs\u001b[49m\u001b[43m,\u001b[49m\n\u001b[32m    727\u001b[39m \u001b[43m    \u001b[49m\u001b[43m)\u001b[49m\n",
      "\u001b[36mFile \u001b[39m\u001b[32m/usr/local/python/3.12.1/lib/python3.12/site-packages/snowflake/snowpark/dataframe.py:792\u001b[39m, in \u001b[36mDataFrame._internal_collect_with_tag_no_telemetry\u001b[39m\u001b[34m(self, statement_params, block, data_type, log_on_exception, case_sensitive, **kwargs)\u001b[39m\n\u001b[32m    779\u001b[39m \u001b[38;5;28;01mdef\u001b[39;00m\u001b[38;5;250m \u001b[39m\u001b[34m_internal_collect_with_tag_no_telemetry\u001b[39m(\n\u001b[32m    780\u001b[39m     \u001b[38;5;28mself\u001b[39m,\n\u001b[32m    781\u001b[39m     *,\n\u001b[32m   (...)\u001b[39m\u001b[32m    790\u001b[39m     \u001b[38;5;66;03m# we should always call this method instead of collect(), to make sure the\u001b[39;00m\n\u001b[32m    791\u001b[39m     \u001b[38;5;66;03m# query tag is set properly.\u001b[39;00m\n\u001b[32m--> \u001b[39m\u001b[32m792\u001b[39m     \u001b[38;5;28;01mreturn\u001b[39;00m \u001b[38;5;28;43mself\u001b[39;49m\u001b[43m.\u001b[49m\u001b[43m_session\u001b[49m\u001b[43m.\u001b[49m\u001b[43m_conn\u001b[49m\u001b[43m.\u001b[49m\u001b[43mexecute\u001b[49m\u001b[43m(\u001b[49m\n\u001b[32m    793\u001b[39m \u001b[43m        \u001b[49m\u001b[38;5;28;43mself\u001b[39;49m\u001b[43m.\u001b[49m\u001b[43m_plan\u001b[49m\u001b[43m,\u001b[49m\n\u001b[32m    794\u001b[39m \u001b[43m        \u001b[49m\u001b[43mblock\u001b[49m\u001b[43m=\u001b[49m\u001b[43mblock\u001b[49m\u001b[43m,\u001b[49m\n\u001b[32m    795\u001b[39m \u001b[43m        \u001b[49m\u001b[43mdata_type\u001b[49m\u001b[43m=\u001b[49m\u001b[43mdata_type\u001b[49m\u001b[43m,\u001b[49m\n\u001b[32m    796\u001b[39m \u001b[43m        \u001b[49m\u001b[43m_statement_params\u001b[49m\u001b[43m=\u001b[49m\u001b[43mcreate_or_update_statement_params_with_query_tag\u001b[49m\u001b[43m(\u001b[49m\n\u001b[32m    797\u001b[39m \u001b[43m            \u001b[49m\u001b[43mstatement_params\u001b[49m\u001b[43m \u001b[49m\u001b[38;5;129;43;01mor\u001b[39;49;00m\u001b[43m \u001b[49m\u001b[38;5;28;43mself\u001b[39;49m\u001b[43m.\u001b[49m\u001b[43m_statement_params\u001b[49m\u001b[43m,\u001b[49m\n\u001b[32m    798\u001b[39m \u001b[43m            \u001b[49m\u001b[38;5;28;43mself\u001b[39;49m\u001b[43m.\u001b[49m\u001b[43m_session\u001b[49m\u001b[43m.\u001b[49m\u001b[43mquery_tag\u001b[49m\u001b[43m,\u001b[49m\n\u001b[32m    799\u001b[39m \u001b[43m            \u001b[49m\u001b[43mSKIP_LEVELS_THREE\u001b[49m\u001b[43m,\u001b[49m\n\u001b[32m    800\u001b[39m \u001b[43m            \u001b[49m\u001b[43mcollect_stacktrace\u001b[49m\u001b[43m=\u001b[49m\u001b[38;5;28;43mself\u001b[39;49m\u001b[43m.\u001b[49m\u001b[43m_session\u001b[49m\u001b[43m.\u001b[49m\u001b[43mconf\u001b[49m\u001b[43m.\u001b[49m\u001b[43mget\u001b[49m\u001b[43m(\u001b[49m\n\u001b[32m    801\u001b[39m \u001b[43m                \u001b[49m\u001b[33;43m\"\u001b[39;49m\u001b[33;43mcollect_stacktrace_in_query_tag\u001b[39;49m\u001b[33;43m\"\u001b[39;49m\n\u001b[32m    802\u001b[39m \u001b[43m            \u001b[49m\u001b[43m)\u001b[49m\u001b[43m,\u001b[49m\n\u001b[32m    803\u001b[39m \u001b[43m        \u001b[49m\u001b[43m)\u001b[49m\u001b[43m,\u001b[49m\n\u001b[32m    804\u001b[39m \u001b[43m        \u001b[49m\u001b[43mlog_on_exception\u001b[49m\u001b[43m=\u001b[49m\u001b[43mlog_on_exception\u001b[49m\u001b[43m,\u001b[49m\n\u001b[32m    805\u001b[39m \u001b[43m        \u001b[49m\u001b[43mcase_sensitive\u001b[49m\u001b[43m=\u001b[49m\u001b[43mcase_sensitive\u001b[49m\u001b[43m,\u001b[49m\n\u001b[32m    806\u001b[39m \u001b[43m        \u001b[49m\u001b[43m*\u001b[49m\u001b[43m*\u001b[49m\u001b[43mkwargs\u001b[49m\u001b[43m,\u001b[49m\n\u001b[32m    807\u001b[39m \u001b[43m    \u001b[49m\u001b[43m)\u001b[49m\n",
      "\u001b[36mFile \u001b[39m\u001b[32m/usr/local/python/3.12.1/lib/python3.12/site-packages/snowflake/snowpark/_internal/server_connection.py:624\u001b[39m, in \u001b[36mServerConnection.execute\u001b[39m\u001b[34m(self, plan, to_pandas, to_iter, to_arrow, block, data_type, log_on_exception, case_sensitive, **kwargs)\u001b[39m\n\u001b[32m    614\u001b[39m \u001b[38;5;28;01mif\u001b[39;00m (\n\u001b[32m    615\u001b[39m     is_in_stored_procedure()\n\u001b[32m    616\u001b[39m     \u001b[38;5;129;01mand\u001b[39;00m \u001b[38;5;129;01mnot\u001b[39;00m block\n\u001b[32m   (...)\u001b[39m\u001b[32m    619\u001b[39m     )\n\u001b[32m    620\u001b[39m ):  \u001b[38;5;66;03m# pragma: no cover\u001b[39;00m\n\u001b[32m    621\u001b[39m     \u001b[38;5;28;01mraise\u001b[39;00m \u001b[38;5;167;01mNotImplementedError\u001b[39;00m(\n\u001b[32m    622\u001b[39m         \u001b[33m\"\u001b[39m\u001b[33mAsync query is not supported in stored procedure yet\u001b[39m\u001b[33m\"\u001b[39m\n\u001b[32m    623\u001b[39m     )\n\u001b[32m--> \u001b[39m\u001b[32m624\u001b[39m result_set, result_meta = \u001b[38;5;28;43mself\u001b[39;49m\u001b[43m.\u001b[49m\u001b[43mget_result_set\u001b[49m\u001b[43m(\u001b[49m\n\u001b[32m    625\u001b[39m \u001b[43m    \u001b[49m\u001b[43mplan\u001b[49m\u001b[43m,\u001b[49m\n\u001b[32m    626\u001b[39m \u001b[43m    \u001b[49m\u001b[43mto_pandas\u001b[49m\u001b[43m,\u001b[49m\n\u001b[32m    627\u001b[39m \u001b[43m    \u001b[49m\u001b[43mto_iter\u001b[49m\u001b[43m,\u001b[49m\n\u001b[32m    628\u001b[39m \u001b[43m    \u001b[49m\u001b[43m*\u001b[49m\u001b[43m*\u001b[49m\u001b[43mkwargs\u001b[49m\u001b[43m,\u001b[49m\n\u001b[32m    629\u001b[39m \u001b[43m    \u001b[49m\u001b[43mblock\u001b[49m\u001b[43m=\u001b[49m\u001b[43mblock\u001b[49m\u001b[43m,\u001b[49m\n\u001b[32m    630\u001b[39m \u001b[43m    \u001b[49m\u001b[43mdata_type\u001b[49m\u001b[43m=\u001b[49m\u001b[43mdata_type\u001b[49m\u001b[43m,\u001b[49m\n\u001b[32m    631\u001b[39m \u001b[43m    \u001b[49m\u001b[43mlog_on_exception\u001b[49m\u001b[43m=\u001b[49m\u001b[43mlog_on_exception\u001b[49m\u001b[43m,\u001b[49m\n\u001b[32m    632\u001b[39m \u001b[43m    \u001b[49m\u001b[43mcase_sensitive\u001b[49m\u001b[43m=\u001b[49m\u001b[43mcase_sensitive\u001b[49m\u001b[43m,\u001b[49m\n\u001b[32m    633\u001b[39m \u001b[43m    \u001b[49m\u001b[43mto_arrow\u001b[49m\u001b[43m=\u001b[49m\u001b[43mto_arrow\u001b[49m\u001b[43m,\u001b[49m\n\u001b[32m    634\u001b[39m \u001b[43m\u001b[49m\u001b[43m)\u001b[49m\n\u001b[32m    635\u001b[39m \u001b[38;5;28;01mif\u001b[39;00m \u001b[38;5;129;01mnot\u001b[39;00m block:\n\u001b[32m    636\u001b[39m     \u001b[38;5;28;01mreturn\u001b[39;00m result_set\n",
      "\u001b[36mFile \u001b[39m\u001b[32m/usr/local/python/3.12.1/lib/python3.12/site-packages/snowflake/snowpark/_internal/analyzer/snowflake_plan.py:211\u001b[39m, in \u001b[36mSnowflakePlan.Decorator.wrap_exception.<locals>.wrap\u001b[39m\u001b[34m(*args, **kwargs)\u001b[39m\n\u001b[32m    207\u001b[39m \u001b[38;5;28;01melse\u001b[39;00m:\n\u001b[32m    208\u001b[39m     ne = SnowparkClientExceptionMessages.SQL_EXCEPTION_FROM_PROGRAMMING_ERROR(\n\u001b[32m    209\u001b[39m         e\n\u001b[32m    210\u001b[39m     )\n\u001b[32m--> \u001b[39m\u001b[32m211\u001b[39m     \u001b[38;5;28;01mraise\u001b[39;00m ne.with_traceback(tb) \u001b[38;5;28;01mfrom\u001b[39;00m\u001b[38;5;250m \u001b[39m\u001b[38;5;28;01mNone\u001b[39;00m\n",
      "\u001b[36mFile \u001b[39m\u001b[32m/usr/local/python/3.12.1/lib/python3.12/site-packages/snowflake/snowpark/_internal/analyzer/snowflake_plan.py:142\u001b[39m, in \u001b[36mSnowflakePlan.Decorator.wrap_exception.<locals>.wrap\u001b[39m\u001b[34m(*args, **kwargs)\u001b[39m\n\u001b[32m    140\u001b[39m \u001b[38;5;28;01mdef\u001b[39;00m\u001b[38;5;250m \u001b[39m\u001b[34mwrap\u001b[39m(*args, **kwargs):\n\u001b[32m    141\u001b[39m     \u001b[38;5;28;01mtry\u001b[39;00m:\n\u001b[32m--> \u001b[39m\u001b[32m142\u001b[39m         \u001b[38;5;28;01mreturn\u001b[39;00m \u001b[43mfunc\u001b[49m\u001b[43m(\u001b[49m\u001b[43m*\u001b[49m\u001b[43margs\u001b[49m\u001b[43m,\u001b[49m\u001b[43m \u001b[49m\u001b[43m*\u001b[49m\u001b[43m*\u001b[49m\u001b[43mkwargs\u001b[49m\u001b[43m)\u001b[49m\n\u001b[32m    143\u001b[39m     \u001b[38;5;28;01mexcept\u001b[39;00m snowflake.connector.errors.ProgrammingError \u001b[38;5;28;01mas\u001b[39;00m e:\n\u001b[32m    144\u001b[39m         query = \u001b[38;5;28mgetattr\u001b[39m(e, \u001b[33m\"\u001b[39m\u001b[33mquery\u001b[39m\u001b[33m\"\u001b[39m, \u001b[38;5;28;01mNone\u001b[39;00m)\n",
      "\u001b[36mFile \u001b[39m\u001b[32m/usr/local/python/3.12.1/lib/python3.12/site-packages/snowflake/snowpark/_internal/server_connection.py:746\u001b[39m, in \u001b[36mServerConnection.get_result_set\u001b[39m\u001b[34m(self, plan, to_pandas, to_iter, block, data_type, log_on_exception, case_sensitive, ignore_results, to_arrow, **kwargs)\u001b[39m\n\u001b[32m    744\u001b[39m     kwargs[DATAFRAME_AST_PARAMETER] = dataframe_ast\n\u001b[32m    745\u001b[39m is_final_query = i == \u001b[38;5;28mlen\u001b[39m(main_queries) - \u001b[32m1\u001b[39m\n\u001b[32m--> \u001b[39m\u001b[32m746\u001b[39m result = \u001b[38;5;28;43mself\u001b[39;49m\u001b[43m.\u001b[49m\u001b[43mrun_query\u001b[49m\u001b[43m(\u001b[49m\n\u001b[32m    747\u001b[39m \u001b[43m    \u001b[49m\u001b[43mfinal_query\u001b[49m\u001b[43m,\u001b[49m\n\u001b[32m    748\u001b[39m \u001b[43m    \u001b[49m\u001b[43mto_pandas\u001b[49m\u001b[43m,\u001b[49m\n\u001b[32m    749\u001b[39m \u001b[43m    \u001b[49m\u001b[43mto_iter\u001b[49m\u001b[43m \u001b[49m\u001b[38;5;129;43;01mand\u001b[39;49;00m\u001b[43m \u001b[49m\u001b[43mis_final_query\u001b[49m\u001b[43m,\u001b[49m\n\u001b[32m    750\u001b[39m \u001b[43m    \u001b[49m\u001b[43mis_ddl_on_temp_object\u001b[49m\u001b[43m=\u001b[49m\u001b[43mquery\u001b[49m\u001b[43m.\u001b[49m\u001b[43mis_ddl_on_temp_object\u001b[49m\u001b[43m,\u001b[49m\n\u001b[32m    751\u001b[39m \u001b[43m    \u001b[49m\u001b[43mblock\u001b[49m\u001b[43m=\u001b[49m\u001b[38;5;129;43;01mnot\u001b[39;49;00m\u001b[43m \u001b[49m\u001b[43mis_last\u001b[49m\u001b[43m,\u001b[49m\n\u001b[32m    752\u001b[39m \u001b[43m    \u001b[49m\u001b[43mdata_type\u001b[49m\u001b[43m=\u001b[49m\u001b[43mdata_type\u001b[49m\u001b[43m,\u001b[49m\n\u001b[32m    753\u001b[39m \u001b[43m    \u001b[49m\u001b[43masync_job_plan\u001b[49m\u001b[43m=\u001b[49m\u001b[43mplan\u001b[49m\u001b[43m,\u001b[49m\n\u001b[32m    754\u001b[39m \u001b[43m    \u001b[49m\u001b[43mlog_on_exception\u001b[49m\u001b[43m=\u001b[49m\u001b[43mlog_on_exception\u001b[49m\u001b[43m,\u001b[49m\n\u001b[32m    755\u001b[39m \u001b[43m    \u001b[49m\u001b[43mcase_sensitive\u001b[49m\u001b[43m=\u001b[49m\u001b[43mcase_sensitive\u001b[49m\u001b[43m,\u001b[49m\n\u001b[32m    756\u001b[39m \u001b[43m    \u001b[49m\u001b[43mparams\u001b[49m\u001b[43m=\u001b[49m\u001b[43mquery\u001b[49m\u001b[43m.\u001b[49m\u001b[43mparams\u001b[49m\u001b[43m,\u001b[49m\n\u001b[32m    757\u001b[39m \u001b[43m    \u001b[49m\u001b[43mignore_results\u001b[49m\u001b[43m=\u001b[49m\u001b[43mignore_results\u001b[49m\u001b[43m,\u001b[49m\n\u001b[32m    758\u001b[39m \u001b[43m    \u001b[49m\u001b[43masync_post_actions\u001b[49m\u001b[43m=\u001b[49m\u001b[43mpost_actions\u001b[49m\u001b[43m,\u001b[49m\n\u001b[32m    759\u001b[39m \u001b[43m    \u001b[49m\u001b[43mto_arrow\u001b[49m\u001b[43m=\u001b[49m\u001b[43mto_arrow\u001b[49m\u001b[43m \u001b[49m\u001b[38;5;129;43;01mand\u001b[39;49;00m\u001b[43m \u001b[49m\u001b[43mis_final_query\u001b[49m\u001b[43m,\u001b[49m\n\u001b[32m    760\u001b[39m \u001b[43m    \u001b[49m\u001b[43m*\u001b[49m\u001b[43m*\u001b[49m\u001b[43mkwargs\u001b[49m\u001b[43m,\u001b[49m\n\u001b[32m    761\u001b[39m \u001b[43m\u001b[49m\u001b[43m)\u001b[49m\n\u001b[32m    762\u001b[39m placeholders[query.query_id_place_holder] = (\n\u001b[32m    763\u001b[39m     result[\u001b[33m\"\u001b[39m\u001b[33msfqid\u001b[39m\u001b[33m\"\u001b[39m] \u001b[38;5;28;01mif\u001b[39;00m \u001b[38;5;129;01mnot\u001b[39;00m is_last \u001b[38;5;28;01melse\u001b[39;00m result.query_id\n\u001b[32m    764\u001b[39m )\n\u001b[32m    765\u001b[39m result_meta = get_new_description(\u001b[38;5;28mself\u001b[39m._cursor)\n",
      "\u001b[36mFile \u001b[39m\u001b[32m/usr/local/python/3.12.1/lib/python3.12/site-packages/snowflake/snowpark/_internal/server_connection.py:133\u001b[39m, in \u001b[36mServerConnection._Decorator.wrap_exception.<locals>.wrap\u001b[39m\u001b[34m(*args, **kwargs)\u001b[39m\n\u001b[32m    129\u001b[39m     \u001b[38;5;28;01mraise\u001b[39;00m SnowparkClientExceptionMessages.SERVER_SESSION_EXPIRED(\n\u001b[32m    130\u001b[39m         ex.cause\n\u001b[32m    131\u001b[39m     )\n\u001b[32m    132\u001b[39m \u001b[38;5;28;01mexcept\u001b[39;00m \u001b[38;5;167;01mException\u001b[39;00m \u001b[38;5;28;01mas\u001b[39;00m ex:\n\u001b[32m--> \u001b[39m\u001b[32m133\u001b[39m     \u001b[38;5;28;01mraise\u001b[39;00m ex\n",
      "\u001b[36mFile \u001b[39m\u001b[32m/usr/local/python/3.12.1/lib/python3.12/site-packages/snowflake/snowpark/_internal/server_connection.py:127\u001b[39m, in \u001b[36mServerConnection._Decorator.wrap_exception.<locals>.wrap\u001b[39m\u001b[34m(*args, **kwargs)\u001b[39m\n\u001b[32m    125\u001b[39m     \u001b[38;5;28;01mraise\u001b[39;00m SnowparkClientExceptionMessages.SERVER_SESSION_HAS_BEEN_CLOSED()\n\u001b[32m    126\u001b[39m \u001b[38;5;28;01mtry\u001b[39;00m:\n\u001b[32m--> \u001b[39m\u001b[32m127\u001b[39m     \u001b[38;5;28;01mreturn\u001b[39;00m \u001b[43mfunc\u001b[49m\u001b[43m(\u001b[49m\u001b[43m*\u001b[49m\u001b[43margs\u001b[49m\u001b[43m,\u001b[49m\u001b[43m \u001b[49m\u001b[43m*\u001b[49m\u001b[43m*\u001b[49m\u001b[43mkwargs\u001b[49m\u001b[43m)\u001b[49m\n\u001b[32m    128\u001b[39m \u001b[38;5;28;01mexcept\u001b[39;00m ReauthenticationRequest \u001b[38;5;28;01mas\u001b[39;00m ex:\n\u001b[32m    129\u001b[39m     \u001b[38;5;28;01mraise\u001b[39;00m SnowparkClientExceptionMessages.SERVER_SESSION_EXPIRED(\n\u001b[32m    130\u001b[39m         ex.cause\n\u001b[32m    131\u001b[39m     )\n",
      "\u001b[36mFile \u001b[39m\u001b[32m/usr/local/python/3.12.1/lib/python3.12/site-packages/snowflake/snowpark/_internal/server_connection.py:520\u001b[39m, in \u001b[36mServerConnection.run_query\u001b[39m\u001b[34m(self, query, to_pandas, to_iter, is_ddl_on_temp_object, block, data_type, async_job_plan, log_on_exception, case_sensitive, params, num_statements, ignore_results, async_post_actions, to_arrow, **kwargs)\u001b[39m\n\u001b[32m    518\u001b[39m         query_id_log = \u001b[33mf\u001b[39m\u001b[33m\"\u001b[39m\u001b[33m [queryID: \u001b[39m\u001b[38;5;132;01m{\u001b[39;00mex.sfqid\u001b[38;5;132;01m}\u001b[39;00m\u001b[33m]\u001b[39m\u001b[33m\"\u001b[39m \u001b[38;5;28;01mif\u001b[39;00m \u001b[38;5;28mhasattr\u001b[39m(ex, \u001b[33m\"\u001b[39m\u001b[33msfqid\u001b[39m\u001b[33m\"\u001b[39m) \u001b[38;5;28;01melse\u001b[39;00m \u001b[33m\"\u001b[39m\u001b[33m\"\u001b[39m\n\u001b[32m    519\u001b[39m         logger.error(\u001b[33mf\u001b[39m\u001b[33m\"\u001b[39m\u001b[33mFailed to execute query\u001b[39m\u001b[38;5;132;01m{\u001b[39;00mquery_id_log\u001b[38;5;132;01m}\u001b[39;00m\u001b[33m \u001b[39m\u001b[38;5;132;01m{\u001b[39;00mquery\u001b[38;5;132;01m}\u001b[39;00m\u001b[38;5;130;01m\\n\u001b[39;00m\u001b[38;5;132;01m{\u001b[39;00mex\u001b[38;5;132;01m}\u001b[39;00m\u001b[33m\"\u001b[39m)\n\u001b[32m--> \u001b[39m\u001b[32m520\u001b[39m     \u001b[38;5;28;01mraise\u001b[39;00m ex\n\u001b[32m    522\u001b[39m \u001b[38;5;66;03m# fetch_pandas_all/batches() only works for SELECT statements\u001b[39;00m\n\u001b[32m    523\u001b[39m \u001b[38;5;66;03m# We call fetchall() if fetch_pandas_all/batches() fails,\u001b[39;00m\n\u001b[32m    524\u001b[39m \u001b[38;5;66;03m# because when the query plan has multiple queries, it will\u001b[39;00m\n\u001b[32m    525\u001b[39m \u001b[38;5;66;03m# have non-select statements, and it shouldn't fail if the user\u001b[39;00m\n\u001b[32m    526\u001b[39m \u001b[38;5;66;03m# calls to_pandas() to execute the query.\u001b[39;00m\n\u001b[32m    527\u001b[39m \u001b[38;5;28;01mif\u001b[39;00m block:\n",
      "\u001b[36mFile \u001b[39m\u001b[32m/usr/local/python/3.12.1/lib/python3.12/site-packages/snowflake/snowpark/_internal/server_connection.py:505\u001b[39m, in \u001b[36mServerConnection.run_query\u001b[39m\u001b[34m(self, query, to_pandas, to_iter, is_ddl_on_temp_object, block, data_type, async_job_plan, log_on_exception, case_sensitive, params, num_statements, ignore_results, async_post_actions, to_arrow, **kwargs)\u001b[39m\n\u001b[32m    503\u001b[39m     kwargs[\u001b[33m\"\u001b[39m\u001b[33m_statement_params\u001b[39m\u001b[33m\"\u001b[39m][\u001b[33m\"\u001b[39m\u001b[33mSNOWPARK_SKIP_TXN_COMMIT_IN_DDL\u001b[39m\u001b[33m\"\u001b[39m] = \u001b[38;5;28;01mTrue\u001b[39;00m\n\u001b[32m    504\u001b[39m \u001b[38;5;28;01mif\u001b[39;00m block:\n\u001b[32m--> \u001b[39m\u001b[32m505\u001b[39m     results_cursor = \u001b[38;5;28;43mself\u001b[39;49m\u001b[43m.\u001b[49m\u001b[43mexecute_and_notify_query_listener\u001b[49m\u001b[43m(\u001b[49m\n\u001b[32m    506\u001b[39m \u001b[43m        \u001b[49m\u001b[43mquery\u001b[49m\u001b[43m,\u001b[49m\u001b[43m \u001b[49m\u001b[43mparams\u001b[49m\u001b[43m=\u001b[49m\u001b[43mparams\u001b[49m\u001b[43m,\u001b[49m\u001b[43m \u001b[49m\u001b[43m*\u001b[49m\u001b[43m*\u001b[49m\u001b[43mkwargs\u001b[49m\n\u001b[32m    507\u001b[39m \u001b[43m    \u001b[49m\u001b[43m)\u001b[49m\n\u001b[32m    508\u001b[39m     logger.debug(\u001b[33mf\u001b[39m\u001b[33m\"\u001b[39m\u001b[33mExecute query [queryID: \u001b[39m\u001b[38;5;132;01m{\u001b[39;00mresults_cursor.sfqid\u001b[38;5;132;01m}\u001b[39;00m\u001b[33m] \u001b[39m\u001b[38;5;132;01m{\u001b[39;00mquery\u001b[38;5;132;01m}\u001b[39;00m\u001b[33m\"\u001b[39m)\n\u001b[32m    509\u001b[39m \u001b[38;5;28;01melse\u001b[39;00m:\n",
      "\u001b[36mFile \u001b[39m\u001b[32m/usr/local/python/3.12.1/lib/python3.12/site-packages/snowflake/snowpark/_internal/server_connection.py:446\u001b[39m, in \u001b[36mServerConnection.execute_and_notify_query_listener\u001b[39m\u001b[34m(self, query, **kwargs)\u001b[39m\n\u001b[32m    442\u001b[39m     err_query = ex.query \u001b[38;5;28;01mif\u001b[39;00m \u001b[38;5;28misinstance\u001b[39m(ex, Error) \u001b[38;5;28;01melse\u001b[39;00m query\n\u001b[32m    443\u001b[39m     \u001b[38;5;28mself\u001b[39m.notify_query_listeners(\n\u001b[32m    444\u001b[39m         QueryRecord(sfqid, err_query, \u001b[38;5;28;01mFalse\u001b[39;00m), is_error=\u001b[38;5;28;01mTrue\u001b[39;00m, **notify_kwargs\n\u001b[32m    445\u001b[39m     )\n\u001b[32m--> \u001b[39m\u001b[32m446\u001b[39m     \u001b[38;5;28;01mraise\u001b[39;00m ex\n\u001b[32m    448\u001b[39m notify_kwargs[\u001b[33m\"\u001b[39m\u001b[33mrequestId\u001b[39m\u001b[33m\"\u001b[39m] = \u001b[38;5;28mstr\u001b[39m(results_cursor._request_id)\n\u001b[32m    449\u001b[39m \u001b[38;5;28mself\u001b[39m.notify_query_listeners(\n\u001b[32m    450\u001b[39m     QueryRecord(results_cursor.sfqid, results_cursor.query), **notify_kwargs\n\u001b[32m    451\u001b[39m )\n",
      "\u001b[36mFile \u001b[39m\u001b[32m/usr/local/python/3.12.1/lib/python3.12/site-packages/snowflake/snowpark/_internal/server_connection.py:437\u001b[39m, in \u001b[36mServerConnection.execute_and_notify_query_listener\u001b[39m\u001b[34m(self, query, **kwargs)\u001b[39m\n\u001b[32m    434\u001b[39m     notify_kwargs[\u001b[33m\"\u001b[39m\u001b[33mdataframeAst\u001b[39m\u001b[33m\"\u001b[39m] = kwargs[DATAFRAME_AST_PARAMETER]\n\u001b[32m    436\u001b[39m \u001b[38;5;28;01mtry\u001b[39;00m:\n\u001b[32m--> \u001b[39m\u001b[32m437\u001b[39m     results_cursor = \u001b[38;5;28;43mself\u001b[39;49m\u001b[43m.\u001b[49m\u001b[43m_cursor\u001b[49m\u001b[43m.\u001b[49m\u001b[43mexecute\u001b[49m\u001b[43m(\u001b[49m\u001b[43mquery\u001b[49m\u001b[43m,\u001b[49m\u001b[43m \u001b[49m\u001b[43m*\u001b[49m\u001b[43m*\u001b[49m\u001b[43mkwargs\u001b[49m\u001b[43m)\u001b[49m\n\u001b[32m    438\u001b[39m \u001b[38;5;28;01mexcept\u001b[39;00m \u001b[38;5;167;01mException\u001b[39;00m \u001b[38;5;28;01mas\u001b[39;00m ex:\n\u001b[32m    439\u001b[39m     notify_kwargs[\u001b[33m\"\u001b[39m\u001b[33mrequestId\u001b[39m\u001b[33m\"\u001b[39m] = \u001b[38;5;28;01mNone\u001b[39;00m\n",
      "\u001b[36mFile \u001b[39m\u001b[32m/usr/local/python/3.12.1/lib/python3.12/site-packages/snowflake/connector/cursor.py:1104\u001b[39m, in \u001b[36mSnowflakeCursor.execute\u001b[39m\u001b[34m(self, command, params, _bind_stage, timeout, _exec_async, _no_retry, _do_reset, _put_callback, _put_azure_callback, _put_callback_output_stream, _get_callback, _get_azure_callback, _get_callback_output_stream, _show_progress_bar, _statement_params, _is_internal, _describe_only, _no_results, _is_put_get, _raise_put_get_error, _force_put_overwrite, _skip_upload_on_content_match, file_stream, num_statements, _force_qmark_paramstyle, _dataframe_ast)\u001b[39m\n\u001b[32m   1100\u001b[39m     is_integrity_error = (\n\u001b[32m   1101\u001b[39m         code == \u001b[33m\"\u001b[39m\u001b[33m100072\u001b[39m\u001b[33m\"\u001b[39m\n\u001b[32m   1102\u001b[39m     )  \u001b[38;5;66;03m# NULL result in a non-nullable column\u001b[39;00m\n\u001b[32m   1103\u001b[39m     error_class = IntegrityError \u001b[38;5;28;01mif\u001b[39;00m is_integrity_error \u001b[38;5;28;01melse\u001b[39;00m ProgrammingError\n\u001b[32m-> \u001b[39m\u001b[32m1104\u001b[39m     \u001b[43mError\u001b[49m\u001b[43m.\u001b[49m\u001b[43merrorhandler_wrapper\u001b[49m\u001b[43m(\u001b[49m\u001b[38;5;28;43mself\u001b[39;49m\u001b[43m.\u001b[49m\u001b[43mconnection\u001b[49m\u001b[43m,\u001b[49m\u001b[43m \u001b[49m\u001b[38;5;28;43mself\u001b[39;49m\u001b[43m,\u001b[49m\u001b[43m \u001b[49m\u001b[43merror_class\u001b[49m\u001b[43m,\u001b[49m\u001b[43m \u001b[49m\u001b[43merrvalue\u001b[49m\u001b[43m)\u001b[49m\n\u001b[32m   1105\u001b[39m \u001b[38;5;28;01mreturn\u001b[39;00m \u001b[38;5;28mself\u001b[39m\n",
      "\u001b[36mFile \u001b[39m\u001b[32m/usr/local/python/3.12.1/lib/python3.12/site-packages/snowflake/connector/errors.py:283\u001b[39m, in \u001b[36mError.errorhandler_wrapper\u001b[39m\u001b[34m(connection, cursor, error_class, error_value)\u001b[39m\n\u001b[32m    260\u001b[39m \u001b[38;5;129m@staticmethod\u001b[39m\n\u001b[32m    261\u001b[39m \u001b[38;5;28;01mdef\u001b[39;00m\u001b[38;5;250m \u001b[39m\u001b[34merrorhandler_wrapper\u001b[39m(\n\u001b[32m    262\u001b[39m     connection: SnowflakeConnection | \u001b[38;5;28;01mNone\u001b[39;00m,\n\u001b[32m   (...)\u001b[39m\u001b[32m    265\u001b[39m     error_value: \u001b[38;5;28mdict\u001b[39m[\u001b[38;5;28mstr\u001b[39m, Any],\n\u001b[32m    266\u001b[39m ) -> \u001b[38;5;28;01mNone\u001b[39;00m:\n\u001b[32m    267\u001b[39m \u001b[38;5;250m    \u001b[39m\u001b[33;03m\"\"\"Error handler wrapper that calls the errorhandler method.\u001b[39;00m\n\u001b[32m    268\u001b[39m \n\u001b[32m    269\u001b[39m \u001b[33;03m    Args:\u001b[39;00m\n\u001b[32m   (...)\u001b[39m\u001b[32m    280\u001b[39m \u001b[33;03m        exception to the first handler in that order.\u001b[39;00m\n\u001b[32m    281\u001b[39m \u001b[33;03m    \"\"\"\u001b[39;00m\n\u001b[32m--> \u001b[39m\u001b[32m283\u001b[39m     handed_over = \u001b[43mError\u001b[49m\u001b[43m.\u001b[49m\u001b[43mhand_to_other_handler\u001b[49m\u001b[43m(\u001b[49m\n\u001b[32m    284\u001b[39m \u001b[43m        \u001b[49m\u001b[43mconnection\u001b[49m\u001b[43m,\u001b[49m\n\u001b[32m    285\u001b[39m \u001b[43m        \u001b[49m\u001b[43mcursor\u001b[49m\u001b[43m,\u001b[49m\n\u001b[32m    286\u001b[39m \u001b[43m        \u001b[49m\u001b[43merror_class\u001b[49m\u001b[43m,\u001b[49m\n\u001b[32m    287\u001b[39m \u001b[43m        \u001b[49m\u001b[43merror_value\u001b[49m\u001b[43m,\u001b[49m\n\u001b[32m    288\u001b[39m \u001b[43m    \u001b[49m\u001b[43m)\u001b[49m\n\u001b[32m    289\u001b[39m     \u001b[38;5;28;01mif\u001b[39;00m \u001b[38;5;129;01mnot\u001b[39;00m handed_over:\n\u001b[32m    290\u001b[39m         \u001b[38;5;28;01mraise\u001b[39;00m Error.errorhandler_make_exception(\n\u001b[32m    291\u001b[39m             error_class,\n\u001b[32m    292\u001b[39m             error_value,\n\u001b[32m    293\u001b[39m         )\n",
      "\u001b[36mFile \u001b[39m\u001b[32m/usr/local/python/3.12.1/lib/python3.12/site-packages/snowflake/connector/errors.py:338\u001b[39m, in \u001b[36mError.hand_to_other_handler\u001b[39m\u001b[34m(connection, cursor, error_class, error_value)\u001b[39m\n\u001b[32m    336\u001b[39m \u001b[38;5;28;01mif\u001b[39;00m cursor \u001b[38;5;129;01mis\u001b[39;00m \u001b[38;5;129;01mnot\u001b[39;00m \u001b[38;5;28;01mNone\u001b[39;00m:\n\u001b[32m    337\u001b[39m     cursor.messages.append((error_class, error_value))\n\u001b[32m--> \u001b[39m\u001b[32m338\u001b[39m     \u001b[43mcursor\u001b[49m\u001b[43m.\u001b[49m\u001b[43merrorhandler\u001b[49m\u001b[43m(\u001b[49m\u001b[43mconnection\u001b[49m\u001b[43m,\u001b[49m\u001b[43m \u001b[49m\u001b[43mcursor\u001b[49m\u001b[43m,\u001b[49m\u001b[43m \u001b[49m\u001b[43merror_class\u001b[49m\u001b[43m,\u001b[49m\u001b[43m \u001b[49m\u001b[43merror_value\u001b[49m\u001b[43m)\u001b[49m\n\u001b[32m    339\u001b[39m     \u001b[38;5;28;01mreturn\u001b[39;00m \u001b[38;5;28;01mTrue\u001b[39;00m\n\u001b[32m    340\u001b[39m \u001b[38;5;28;01melif\u001b[39;00m connection \u001b[38;5;129;01mis\u001b[39;00m \u001b[38;5;129;01mnot\u001b[39;00m \u001b[38;5;28;01mNone\u001b[39;00m:\n",
      "\u001b[36mFile \u001b[39m\u001b[32m/usr/local/python/3.12.1/lib/python3.12/site-packages/snowflake/connector/errors.py:214\u001b[39m, in \u001b[36mError.default_errorhandler\u001b[39m\u001b[34m(connection, cursor, error_class, error_value)\u001b[39m\n\u001b[32m    212\u001b[39m errno = error_value.get(\u001b[33m\"\u001b[39m\u001b[33merrno\u001b[39m\u001b[33m\"\u001b[39m)\n\u001b[32m    213\u001b[39m done_format_msg = error_value.get(\u001b[33m\"\u001b[39m\u001b[33mdone_format_msg\u001b[39m\u001b[33m\"\u001b[39m)\n\u001b[32m--> \u001b[39m\u001b[32m214\u001b[39m \u001b[38;5;28;01mraise\u001b[39;00m error_class(\n\u001b[32m    215\u001b[39m     msg=error_value.get(\u001b[33m\"\u001b[39m\u001b[33mmsg\u001b[39m\u001b[33m\"\u001b[39m),\n\u001b[32m    216\u001b[39m     errno=\u001b[38;5;28;01mNone\u001b[39;00m \u001b[38;5;28;01mif\u001b[39;00m errno \u001b[38;5;129;01mis\u001b[39;00m \u001b[38;5;28;01mNone\u001b[39;00m \u001b[38;5;28;01melse\u001b[39;00m \u001b[38;5;28mint\u001b[39m(errno),\n\u001b[32m    217\u001b[39m     sqlstate=error_value.get(\u001b[33m\"\u001b[39m\u001b[33msqlstate\u001b[39m\u001b[33m\"\u001b[39m),\n\u001b[32m    218\u001b[39m     sfqid=error_value.get(\u001b[33m\"\u001b[39m\u001b[33msfqid\u001b[39m\u001b[33m\"\u001b[39m),\n\u001b[32m    219\u001b[39m     query=error_value.get(\u001b[33m\"\u001b[39m\u001b[33mquery\u001b[39m\u001b[33m\"\u001b[39m),\n\u001b[32m    220\u001b[39m     done_format_msg=(\n\u001b[32m    221\u001b[39m         \u001b[38;5;28;01mNone\u001b[39;00m \u001b[38;5;28;01mif\u001b[39;00m done_format_msg \u001b[38;5;129;01mis\u001b[39;00m \u001b[38;5;28;01mNone\u001b[39;00m \u001b[38;5;28;01melse\u001b[39;00m \u001b[38;5;28mbool\u001b[39m(done_format_msg)\n\u001b[32m    222\u001b[39m     ),\n\u001b[32m    223\u001b[39m     connection=connection,\n\u001b[32m    224\u001b[39m     cursor=cursor,\n\u001b[32m    225\u001b[39m )\n",
      "\u001b[31mSnowparkSQLException\u001b[39m: (1304): 01bb6ac6-0000-89f8-0001-466a0010a2d6: 002003 (42S02): SQL compilation error:\nObject 'TRANSCRIPT_INFO_EXTRACTED_QA' does not exist or not authorized."
     ]
    }
   ],
   "source": [
    "%%time\n",
    "session.sql(f\"\"\"\n",
    "insert into AUDIO_CLAIMS_EXTRACTED_INFO(\n",
    "                                        datetime,\n",
    "                                        audio_file_name,       \n",
    "                                        audio_full_file_path,\n",
    "                                        raw_conversation,\n",
    "                                        prompted_conversation,\n",
    "                                        duration,\n",
    "                                        call_details,\n",
    "                                        call_summary,\n",
    "                                        call_sentiment\n",
    "                                    )\n",
    "with audio_details as\n",
    "(\n",
    "    select datetime, \n",
    "            audiofile, \n",
    "            presigned_url_path, \n",
    "            conversation,\n",
    "            extracted_info,\n",
    "            duration,\n",
    "            parse_json(SNOWFLAKE.CORTEX.COMPLETE('llama2-70b-chat',concat('<s>[INST] Analyze the audio transcripts found between the tags <question></question> tags and generate only the requested json output. Do not include any other language before or after the requested output.Include any policy number or claim number with values like policy number POL_NotAvailable or claim number CL_NotAvailable. Do not include the prompt. Output should only be json and if  ClaimNumber is not found then assign the value as NotFound in double quotes and if there is no PolicyNumber found then assign the value as NotFound in double quotes. \n",
    "            Provide a JSON response using the following format, no preamble. Collision with animal cannot be a intent. Below is the JSON that should be the output:\n",
    "            {{ Representative: string,\n",
    "            Customer:string, \n",
    "            ClaimNumber : string, \n",
    "            PolicyNumber : string,\n",
    "            CallIntent:string,\n",
    "            CallToAction:string,\n",
    "            Issue:string,\n",
    "            Resolution:string,\n",
    "            NextSteps:string,\n",
    "            ModeofUpdate:string,\n",
    "            PurposeOfCall:string,\n",
    "            ResponseMode:string,\n",
    "            FirstCallResolution:float,\n",
    "            CallQuality: string,\n",
    "            Net Promoter Score :INT}}. Intent of the call should be in 2 words. Provide if it was a first call resolution as a score values ranging between 0.01 and 0.99.\n",
    "            Call Quality involves monitoring and evaluating the quality of interactions based on communication skills, adherence to protocols, and overall customer handling and values will be Good,Average,Poor. \n",
    "            Net Promoter Score value between 10 -100 and also consider the resolution response time and skill of the Representative in handling the issue.\n",
    "            \n",
    "            Below pattern of conversations is not a first call resolution :\n",
    "            Owen: Hello, this is Owen from AutoAssure Insurance. How can I assist you today?\n",
    "            Jessica: Hi, Owen. My name is Jessica Turner, and I am calling to check the status of my insurance claim for a recent car accident.\n",
    "            Owen: I am here to help, Jessica. Can you please provide me with your policy number so I can access your information?\n",
    "            Jessica: It is POL901234.\n",
    "            Owen: Thank you, Jessica. Let me pull up the details of your claim. While I am doing that, is there something specific you are unclear about regarding the status?\n",
    "            Jessica: Yes, Owen. I had an accident two weeks ago, and I have not received any updates on the claim.\n",
    "            Owen: I understand your concern, Jessica. I will investigate the status of your claim and provide you with an update. You will receive an email shortly.\n",
    "            Jessica: Yes, Owen. How soon can I expect to hear back about the status of my claim?\n",
    "            Owen: I appreciate your patience, Jessica. Our claims department is actively working on your case, and you can expect an update within the next 48 hours.\n",
    "            Jessica: Thank you, Owen. I will be waiting for the update. You haveve been very helpful.\n",
    "            Owen: It is my pleasure, Jessica. If you have any more questions or concerns, feel free to contact us.\n",
    "            Jessica: Goodbye.\n",
    "            \n",
    "            Only provide JSON in your response. Dont provide any explanations.Do not prefix \"Here is the JSON response for the conversation\" for the json data generated. Value for the Claim Number should be NotFound in double quotes if Claim Number or Policy Number is not found in the text between the <question></question> for all rows.','<question>'\n",
    "            ,EXTRACTED_INFO,'</question> [/INST] Answer: Here is the JSON response for the conversation')\n",
    "            )\n",
    "            ) as call_details \n",
    "            ,SNOWFLAKE.CORTEX.SUMMARIZE(concat('Provide the summary for the conversation in <con> </con> tag.Generate only the requested output. \n",
    "            Do not include any other language before or after the requested output.Also include any policy number or claim number if found the conversation. Do not include the prompt. Dont provide any explanations.\n",
    "            <con>',CONVERSATION,'</con>')) as call_summary\n",
    "            , SNOWFLAKE.CORTEX.SENTIMENT(CONVERSATION) as call_sentiment\n",
    "from TRANSCRIPT_INFO_EXTRACTED_QA\n",
    ")\n",
    "select * from audio_details\n",
    "\n",
    "\"\"\").collect()"
   ]
  },
  {
   "cell_type": "code",
   "execution_count": 54,
   "id": "3e61732d",
   "metadata": {},
   "outputs": [
    {
     "data": {
      "text/html": [
       "<div>\n",
       "<style scoped>\n",
       "    .dataframe tbody tr th:only-of-type {\n",
       "        vertical-align: middle;\n",
       "    }\n",
       "\n",
       "    .dataframe tbody tr th {\n",
       "        vertical-align: top;\n",
       "    }\n",
       "\n",
       "    .dataframe thead th {\n",
       "        text-align: right;\n",
       "    }\n",
       "</style>\n",
       "<table border=\"1\" class=\"dataframe\">\n",
       "  <thead>\n",
       "    <tr style=\"text-align: right;\">\n",
       "      <th></th>\n",
       "      <th>DATETIME</th>\n",
       "      <th>AUDIO_FILE_NAME</th>\n",
       "      <th>AUDIO_FULL_FILE_PATH</th>\n",
       "      <th>RAW_CONVERSATION</th>\n",
       "      <th>PROMPTED_CONVERSATION</th>\n",
       "      <th>DURATION</th>\n",
       "      <th>CALL_DETAILS</th>\n",
       "      <th>CALL_SUMMARY</th>\n",
       "      <th>CALL_SENTIMENT</th>\n",
       "      <th>REPONSE_GIVEN</th>\n",
       "    </tr>\n",
       "  </thead>\n",
       "  <tbody>\n",
       "    <tr>\n",
       "      <th>0</th>\n",
       "      <td>2023-11-11</td>\n",
       "      <td>audiofile1.mp3</td>\n",
       "      <td>https://sfc-prod3-ds1-16-customer-stage.s3.us-...</td>\n",
       "      <td>Hello, this is Emily from AutoAssure Insurance...</td>\n",
       "      <td>Representative: Emily\\nCustomer: Rachel Ander...</td>\n",
       "      <td>218.254271</td>\n",
       "      <td>{\\n  \"CallIntent\": \"Dispute Resolution\",\\n  \"C...</td>\n",
       "      <td>Sure, here is the summary of the conversation:...</td>\n",
       "      <td>0.849523</td>\n",
       "      <td>NaN</td>\n",
       "    </tr>\n",
       "    <tr>\n",
       "      <th>1</th>\n",
       "      <td>2023-11-11</td>\n",
       "      <td>audiofile2.mp3</td>\n",
       "      <td>https://sfc-prod3-ds1-16-customer-stage.s3.us-...</td>\n",
       "      <td>Hello, this is James from AutoAssure Insurance...</td>\n",
       "      <td>I apologize, but I cannot provide a response ...</td>\n",
       "      <td>197.705486</td>\n",
       "      <td>{\\n  \"CallIntent\": \"Dispute Resolution\",\\n  \"C...</td>\n",
       "      <td>Sure, here is the summary of the conversation:...</td>\n",
       "      <td>0.862604</td>\n",
       "      <td>NaN</td>\n",
       "    </tr>\n",
       "    <tr>\n",
       "      <th>2</th>\n",
       "      <td>2023-11-11</td>\n",
       "      <td>audiofile3.mp3</td>\n",
       "      <td>https://sfc-prod3-ds1-16-customer-stage.s3.us-...</td>\n",
       "      <td>Hello, this is Sarah from AutoAssure Insurance...</td>\n",
       "      <td>Representative: Sarah\\nCustomer: Alex Johnson...</td>\n",
       "      <td>75.172382</td>\n",
       "      <td>{\\n  \"CallIntent\": \"Dispute\",\\n  \"CallQuality\"...</td>\n",
       "      <td>Sure, here is the summary of the conversation:...</td>\n",
       "      <td>0.807768</td>\n",
       "      <td>NaN</td>\n",
       "    </tr>\n",
       "  </tbody>\n",
       "</table>\n",
       "</div>"
      ],
      "text/plain": [
       "     DATETIME AUDIO_FILE_NAME  \\\n",
       "0  2023-11-11  audiofile1.mp3   \n",
       "1  2023-11-11  audiofile2.mp3   \n",
       "2  2023-11-11  audiofile3.mp3   \n",
       "\n",
       "                                AUDIO_FULL_FILE_PATH  \\\n",
       "0  https://sfc-prod3-ds1-16-customer-stage.s3.us-...   \n",
       "1  https://sfc-prod3-ds1-16-customer-stage.s3.us-...   \n",
       "2  https://sfc-prod3-ds1-16-customer-stage.s3.us-...   \n",
       "\n",
       "                                    RAW_CONVERSATION  \\\n",
       "0  Hello, this is Emily from AutoAssure Insurance...   \n",
       "1  Hello, this is James from AutoAssure Insurance...   \n",
       "2  Hello, this is Sarah from AutoAssure Insurance...   \n",
       "\n",
       "                               PROMPTED_CONVERSATION    DURATION  \\\n",
       "0   Representative: Emily\\nCustomer: Rachel Ander...  218.254271   \n",
       "1   I apologize, but I cannot provide a response ...  197.705486   \n",
       "2   Representative: Sarah\\nCustomer: Alex Johnson...   75.172382   \n",
       "\n",
       "                                        CALL_DETAILS  \\\n",
       "0  {\\n  \"CallIntent\": \"Dispute Resolution\",\\n  \"C...   \n",
       "1  {\\n  \"CallIntent\": \"Dispute Resolution\",\\n  \"C...   \n",
       "2  {\\n  \"CallIntent\": \"Dispute\",\\n  \"CallQuality\"...   \n",
       "\n",
       "                                        CALL_SUMMARY  CALL_SENTIMENT  \\\n",
       "0  Sure, here is the summary of the conversation:...        0.849523   \n",
       "1  Sure, here is the summary of the conversation:...        0.862604   \n",
       "2  Sure, here is the summary of the conversation:...        0.807768   \n",
       "\n",
       "   REPONSE_GIVEN  \n",
       "0            NaN  \n",
       "1            NaN  \n",
       "2            NaN  "
      ]
     },
     "execution_count": 54,
     "metadata": {},
     "output_type": "execute_result"
    }
   ],
   "source": [
    "session.table(\"AUDIO_CLAIMS_EXTRACTED_INFO\").limit(3).to_pandas()"
   ]
  },
  {
   "cell_type": "code",
   "execution_count": 55,
   "id": "56c6b6d3",
   "metadata": {},
   "outputs": [],
   "source": [
    "# info_extracted_snowdf = prompted_snowdf.with_column(\"EXTRACTED_INFO\", F.call_builtin(\"snowflake.ml.COMPLETE\", F.lit('llama2-7b-chat'), F.col(\"PROMPT\")))"
   ]
  },
  {
   "cell_type": "code",
   "execution_count": 56,
   "id": "e98a728b",
   "metadata": {},
   "outputs": [
    {
     "name": "stdout",
     "output_type": "stream",
     "text": [
      "CPU times: user 1e+03 ns, sys: 1 µs, total: 2 µs\n",
      "Wall time: 4.05 µs\n"
     ]
    }
   ],
   "source": [
    "%%time\n",
    "# info_extracted_snowdf.write.mode(\"overwrite\").save_as_table(response_table_name)"
   ]
  },
  {
   "cell_type": "markdown",
   "id": "39586aa4",
   "metadata": {},
   "source": [
    "## Loading the StreamlitApp Table\n",
    "This is the source table for the Streamlit App for Text2SQL option"
   ]
  },
  {
   "cell_type": "code",
   "execution_count": 6,
   "id": "443c2854",
   "metadata": {},
   "outputs": [
    {
     "data": {
      "text/plain": [
       "[Row(status='Table STREAMLITAPPTABLE successfully created.')]"
      ]
     },
     "execution_count": 6,
     "metadata": {},
     "output_type": "execute_result"
    }
   ],
   "source": [
    "session.sql(f'''\n",
    "\n",
    "CREATE OR REPLACE TABLE StreamlitAppTable\n",
    "As\n",
    "select datetime , audio_file_name,\n",
    "duration,\n",
    "call_details:CallToAction::string as CallToAction\n",
    ",call_details:ClaimNumber::string as ClaimNumber\n",
    ",call_details:Customer::string as Customer\n",
    ",call_details:CallIntent::string as Intent\n",
    ",call_details:Issue::string as Issue\n",
    ",call_details:PolicyNumber::string as PolicyNumber\n",
    ",call_details:PurposeOfCall::string as PurposeOfCall\n",
    ",call_details:Representative::string as Representative\n",
    ",call_details:Resolution::string as Resolution\n",
    ",call_details:ResponseMode::string as ResponseMode\n",
    ",call_details:ModeofUpdate::string as ModeofUpdate\n",
    ",call_details:NextSteps::string as NextSteps\n",
    ",IFF(call_sentiment>0.7,'Positive','Negative') as CallSentiment\n",
    ",IFF(call_details:FirstCallResolution>0.5,'Yes','No') as FirstCallResolution\n",
    "from\n",
    "Audio_Claims_Extracted_info\n",
    "            \n",
    "            ''').collect()"
   ]
  },
  {
   "cell_type": "markdown",
   "id": "a790b568",
   "metadata": {},
   "source": [
    "## Loading the Audio Embedding Table\n",
    "This is used by the Chatbot part of the app"
   ]
  },
  {
   "cell_type": "code",
   "execution_count": 7,
   "id": "0ecf3920",
   "metadata": {},
   "outputs": [
    {
     "ename": "SnowparkSQLException",
     "evalue": "(1304): 01bb6ad3-0000-899a-0001-466a0010e2ae: 002141 (42601): SQL compilation error:\nUnknown user-defined function SNOWFLAKE.CORTEX.EMBED_TEXT",
     "output_type": "error",
     "traceback": [
      "\u001b[31m---------------------------------------------------------------------------\u001b[39m",
      "\u001b[31mSnowparkSQLException\u001b[39m                      Traceback (most recent call last)",
      "\u001b[36mCell\u001b[39m\u001b[36m \u001b[39m\u001b[32mIn[7]\u001b[39m\u001b[32m, line 29\u001b[39m\n\u001b[32m      1\u001b[39m \u001b[43msession\u001b[49m\u001b[43m.\u001b[49m\u001b[43msql\u001b[49m\u001b[43m(\u001b[49m\u001b[33;43m'''\u001b[39;49m\n\u001b[32m      2\u001b[39m \u001b[33;43m        create or replace table Audio_Call_Embedding\u001b[39;49m\n\u001b[32m      3\u001b[39m \u001b[33;43m        as\u001b[39;49m\n\u001b[32m      4\u001b[39m \u001b[33;43m        with sub\u001b[39;49m\n\u001b[32m      5\u001b[39m \u001b[33;43m        as\u001b[39;49m\n\u001b[32m      6\u001b[39m \u001b[33;43m        (\u001b[39;49m\n\u001b[32m      7\u001b[39m \u001b[33;43m        select \u001b[39;49m\n\u001b[32m      8\u001b[39m \u001b[33;43m                datetime as CallDate,\u001b[39;49m\n\u001b[32m      9\u001b[39m \u001b[33;43m                audio_file_name as AudioFileName,\u001b[39;49m\n\u001b[32m     10\u001b[39m \u001b[33;43m                call_details:CallToAction as CallToAction,\u001b[39;49m\n\u001b[32m     11\u001b[39m \u001b[33;43m                call_details:ClaimNumber::string as ClaimNumber ,\u001b[39;49m\n\u001b[32m     12\u001b[39m \u001b[33;43m                call_details:PolicyNumber::string as PolicyNumber,\u001b[39;49m\n\u001b[32m     13\u001b[39m \u001b[33;43m                call_details:Representative::string as AgentName,\u001b[39;49m\n\u001b[32m     14\u001b[39m \u001b[33;43m                call_details:Customer::string as CustomerName,\u001b[39;49m\n\u001b[32m     15\u001b[39m \u001b[33;43m                call_details:CallIntent::string as CallIntent,\u001b[39;49m\n\u001b[32m     16\u001b[39m \u001b[33;43m                call_details:Issue as Issue,\u001b[39;49m\n\u001b[32m     17\u001b[39m \u001b[33;43m                call_details:ModeofUpdate as ModeofUpdate,\u001b[39;49m\n\u001b[32m     18\u001b[39m \u001b[33;43m                call_details:NextSteps as NextSteps,\u001b[39;49m\n\u001b[32m     19\u001b[39m \u001b[33;43m                call_details:Resolution as Resolution,\u001b[39;49m\n\u001b[32m     20\u001b[39m \u001b[33;43m                IFF(call_details:FirstCallResolution>0.5,\u001b[39;49m\u001b[33;43m'\u001b[39;49m\u001b[33;43mYes\u001b[39;49m\u001b[33;43m'\u001b[39;49m\u001b[33;43m,\u001b[39;49m\u001b[33;43m'\u001b[39;49m\u001b[33;43mNo\u001b[39;49m\u001b[33;43m'\u001b[39;49m\u001b[33;43m) as FristCallResolution,\u001b[39;49m\n\u001b[32m     21\u001b[39m \u001b[33;43m            IFF(call_sentiment >0.72,\u001b[39;49m\u001b[33;43m'\u001b[39;49m\u001b[33;43mPositive\u001b[39;49m\u001b[33;43m'\u001b[39;49m\u001b[33;43m,\u001b[39;49m\u001b[33;43m'\u001b[39;49m\u001b[33;43mNegative\u001b[39;49m\u001b[33;43m'\u001b[39;49m\u001b[33;43m) as CallSentiment,\u001b[39;49m\n\u001b[32m     22\u001b[39m \u001b[33;43m            substr(call_summary,charindex(\u001b[39;49m\u001b[33;43m'\u001b[39;49m\u001b[33;43m:\u001b[39;49m\u001b[33;43m'\u001b[39;49m\u001b[33;43m,call_summary,1)+1) as CallSummary\u001b[39;49m\n\u001b[32m     23\u001b[39m \n\u001b[32m     24\u001b[39m \u001b[33;43m        from Audio_Claims_Extracted_info\u001b[39;49m\n\u001b[32m     25\u001b[39m \u001b[33;43m        )\u001b[39;49m\n\u001b[32m     26\u001b[39m \u001b[33;43m        select OBJECT_CONSTRUCT(*) as audio_data, SNOWFLAKE.CORTEX.embed_text(\u001b[39;49m\u001b[33;43m'\u001b[39;49m\u001b[33;43me5-base-v2\u001b[39;49m\u001b[33;43m'\u001b[39;49m\u001b[33;43m ,\u001b[39;49m\n\u001b[32m     27\u001b[39m \u001b[33;43m        audio_data::string) as ct_embedding from sub ;\u001b[39;49m\n\u001b[32m     28\u001b[39m \n\u001b[32m---> \u001b[39m\u001b[32m29\u001b[39m \u001b[33;43m            \u001b[39;49m\u001b[33;43m'''\u001b[39;49m\u001b[43m)\u001b[49m\u001b[43m.\u001b[49m\u001b[43mcollect\u001b[49m\u001b[43m(\u001b[49m\u001b[43m)\u001b[49m\n",
      "\u001b[36mFile \u001b[39m\u001b[32m/usr/local/python/3.12.1/lib/python3.12/site-packages/snowflake/snowpark/_internal/telemetry.py:290\u001b[39m, in \u001b[36mdf_collect_api_telemetry.<locals>.wrap\u001b[39m\u001b[34m(*args, **kwargs)\u001b[39m\n\u001b[32m    288\u001b[39m \u001b[38;5;28;01mtry\u001b[39;00m:\n\u001b[32m    289\u001b[39m     \u001b[38;5;28;01mwith\u001b[39;00m ResourceUsageCollector() \u001b[38;5;28;01mas\u001b[39;00m resource_usage_collector:\n\u001b[32m--> \u001b[39m\u001b[32m290\u001b[39m         result = \u001b[43mfunc\u001b[49m\u001b[43m(\u001b[49m\u001b[43m*\u001b[49m\u001b[43margs\u001b[49m\u001b[43m,\u001b[49m\u001b[43m \u001b[49m\u001b[43m*\u001b[49m\u001b[43m*\u001b[49m\u001b[43mkwargs\u001b[49m\u001b[43m)\u001b[49m\n\u001b[32m    291\u001b[39m     resource_usage = resource_usage_collector.get_resource_usage()\n\u001b[32m    292\u001b[39m \u001b[38;5;28;01mfinally\u001b[39;00m:\n",
      "\u001b[36mFile \u001b[39m\u001b[32m/usr/local/python/3.12.1/lib/python3.12/site-packages/snowflake/snowpark/_internal/utils.py:1063\u001b[39m, in \u001b[36mpublicapi.<locals>.call_wrapper\u001b[39m\u001b[34m(*args, **kwargs)\u001b[39m\n\u001b[32m   1059\u001b[39m kwargs[\u001b[33m\"\u001b[39m\u001b[33m_emit_ast\u001b[39m\u001b[33m\"\u001b[39m] = is_ast_enabled()\n\u001b[32m   1061\u001b[39m \u001b[38;5;66;03m# TODO: Could modify internal docstring to display that users should not modify the _emit_ast parameter.\u001b[39;00m\n\u001b[32m-> \u001b[39m\u001b[32m1063\u001b[39m \u001b[38;5;28;01mreturn\u001b[39;00m \u001b[43mfunc\u001b[49m\u001b[43m(\u001b[49m\u001b[43m*\u001b[49m\u001b[43margs\u001b[49m\u001b[43m,\u001b[49m\u001b[43m \u001b[49m\u001b[43m*\u001b[49m\u001b[43m*\u001b[49m\u001b[43mkwargs\u001b[49m\u001b[43m)\u001b[49m\n",
      "\u001b[36mFile \u001b[39m\u001b[32m/usr/local/python/3.12.1/lib/python3.12/site-packages/snowflake/snowpark/dataframe.py:721\u001b[39m, in \u001b[36mDataFrame.collect\u001b[39m\u001b[34m(self, statement_params, block, log_on_exception, case_sensitive, _emit_ast)\u001b[39m\n\u001b[32m    718\u001b[39m     _, kwargs[DATAFRAME_AST_PARAMETER] = \u001b[38;5;28mself\u001b[39m._session._ast_batch.flush()\n\u001b[32m    720\u001b[39m \u001b[38;5;28;01mwith\u001b[39;00m open_telemetry_context_manager(\u001b[38;5;28mself\u001b[39m.collect, \u001b[38;5;28mself\u001b[39m):\n\u001b[32m--> \u001b[39m\u001b[32m721\u001b[39m     \u001b[38;5;28;01mreturn\u001b[39;00m \u001b[38;5;28;43mself\u001b[39;49m\u001b[43m.\u001b[49m\u001b[43m_internal_collect_with_tag_no_telemetry\u001b[49m\u001b[43m(\u001b[49m\n\u001b[32m    722\u001b[39m \u001b[43m        \u001b[49m\u001b[43mstatement_params\u001b[49m\u001b[43m=\u001b[49m\u001b[43mstatement_params\u001b[49m\u001b[43m,\u001b[49m\n\u001b[32m    723\u001b[39m \u001b[43m        \u001b[49m\u001b[43mblock\u001b[49m\u001b[43m=\u001b[49m\u001b[43mblock\u001b[49m\u001b[43m,\u001b[49m\n\u001b[32m    724\u001b[39m \u001b[43m        \u001b[49m\u001b[43mlog_on_exception\u001b[49m\u001b[43m=\u001b[49m\u001b[43mlog_on_exception\u001b[49m\u001b[43m,\u001b[49m\n\u001b[32m    725\u001b[39m \u001b[43m        \u001b[49m\u001b[43mcase_sensitive\u001b[49m\u001b[43m=\u001b[49m\u001b[43mcase_sensitive\u001b[49m\u001b[43m,\u001b[49m\n\u001b[32m    726\u001b[39m \u001b[43m        \u001b[49m\u001b[43m*\u001b[49m\u001b[43m*\u001b[49m\u001b[43mkwargs\u001b[49m\u001b[43m,\u001b[49m\n\u001b[32m    727\u001b[39m \u001b[43m    \u001b[49m\u001b[43m)\u001b[49m\n",
      "\u001b[36mFile \u001b[39m\u001b[32m/usr/local/python/3.12.1/lib/python3.12/site-packages/snowflake/snowpark/dataframe.py:792\u001b[39m, in \u001b[36mDataFrame._internal_collect_with_tag_no_telemetry\u001b[39m\u001b[34m(self, statement_params, block, data_type, log_on_exception, case_sensitive, **kwargs)\u001b[39m\n\u001b[32m    779\u001b[39m \u001b[38;5;28;01mdef\u001b[39;00m\u001b[38;5;250m \u001b[39m\u001b[34m_internal_collect_with_tag_no_telemetry\u001b[39m(\n\u001b[32m    780\u001b[39m     \u001b[38;5;28mself\u001b[39m,\n\u001b[32m    781\u001b[39m     *,\n\u001b[32m   (...)\u001b[39m\u001b[32m    790\u001b[39m     \u001b[38;5;66;03m# we should always call this method instead of collect(), to make sure the\u001b[39;00m\n\u001b[32m    791\u001b[39m     \u001b[38;5;66;03m# query tag is set properly.\u001b[39;00m\n\u001b[32m--> \u001b[39m\u001b[32m792\u001b[39m     \u001b[38;5;28;01mreturn\u001b[39;00m \u001b[38;5;28;43mself\u001b[39;49m\u001b[43m.\u001b[49m\u001b[43m_session\u001b[49m\u001b[43m.\u001b[49m\u001b[43m_conn\u001b[49m\u001b[43m.\u001b[49m\u001b[43mexecute\u001b[49m\u001b[43m(\u001b[49m\n\u001b[32m    793\u001b[39m \u001b[43m        \u001b[49m\u001b[38;5;28;43mself\u001b[39;49m\u001b[43m.\u001b[49m\u001b[43m_plan\u001b[49m\u001b[43m,\u001b[49m\n\u001b[32m    794\u001b[39m \u001b[43m        \u001b[49m\u001b[43mblock\u001b[49m\u001b[43m=\u001b[49m\u001b[43mblock\u001b[49m\u001b[43m,\u001b[49m\n\u001b[32m    795\u001b[39m \u001b[43m        \u001b[49m\u001b[43mdata_type\u001b[49m\u001b[43m=\u001b[49m\u001b[43mdata_type\u001b[49m\u001b[43m,\u001b[49m\n\u001b[32m    796\u001b[39m \u001b[43m        \u001b[49m\u001b[43m_statement_params\u001b[49m\u001b[43m=\u001b[49m\u001b[43mcreate_or_update_statement_params_with_query_tag\u001b[49m\u001b[43m(\u001b[49m\n\u001b[32m    797\u001b[39m \u001b[43m            \u001b[49m\u001b[43mstatement_params\u001b[49m\u001b[43m \u001b[49m\u001b[38;5;129;43;01mor\u001b[39;49;00m\u001b[43m \u001b[49m\u001b[38;5;28;43mself\u001b[39;49m\u001b[43m.\u001b[49m\u001b[43m_statement_params\u001b[49m\u001b[43m,\u001b[49m\n\u001b[32m    798\u001b[39m \u001b[43m            \u001b[49m\u001b[38;5;28;43mself\u001b[39;49m\u001b[43m.\u001b[49m\u001b[43m_session\u001b[49m\u001b[43m.\u001b[49m\u001b[43mquery_tag\u001b[49m\u001b[43m,\u001b[49m\n\u001b[32m    799\u001b[39m \u001b[43m            \u001b[49m\u001b[43mSKIP_LEVELS_THREE\u001b[49m\u001b[43m,\u001b[49m\n\u001b[32m    800\u001b[39m \u001b[43m            \u001b[49m\u001b[43mcollect_stacktrace\u001b[49m\u001b[43m=\u001b[49m\u001b[38;5;28;43mself\u001b[39;49m\u001b[43m.\u001b[49m\u001b[43m_session\u001b[49m\u001b[43m.\u001b[49m\u001b[43mconf\u001b[49m\u001b[43m.\u001b[49m\u001b[43mget\u001b[49m\u001b[43m(\u001b[49m\n\u001b[32m    801\u001b[39m \u001b[43m                \u001b[49m\u001b[33;43m\"\u001b[39;49m\u001b[33;43mcollect_stacktrace_in_query_tag\u001b[39;49m\u001b[33;43m\"\u001b[39;49m\n\u001b[32m    802\u001b[39m \u001b[43m            \u001b[49m\u001b[43m)\u001b[49m\u001b[43m,\u001b[49m\n\u001b[32m    803\u001b[39m \u001b[43m        \u001b[49m\u001b[43m)\u001b[49m\u001b[43m,\u001b[49m\n\u001b[32m    804\u001b[39m \u001b[43m        \u001b[49m\u001b[43mlog_on_exception\u001b[49m\u001b[43m=\u001b[49m\u001b[43mlog_on_exception\u001b[49m\u001b[43m,\u001b[49m\n\u001b[32m    805\u001b[39m \u001b[43m        \u001b[49m\u001b[43mcase_sensitive\u001b[49m\u001b[43m=\u001b[49m\u001b[43mcase_sensitive\u001b[49m\u001b[43m,\u001b[49m\n\u001b[32m    806\u001b[39m \u001b[43m        \u001b[49m\u001b[43m*\u001b[49m\u001b[43m*\u001b[49m\u001b[43mkwargs\u001b[49m\u001b[43m,\u001b[49m\n\u001b[32m    807\u001b[39m \u001b[43m    \u001b[49m\u001b[43m)\u001b[49m\n",
      "\u001b[36mFile \u001b[39m\u001b[32m/usr/local/python/3.12.1/lib/python3.12/site-packages/snowflake/snowpark/_internal/server_connection.py:624\u001b[39m, in \u001b[36mServerConnection.execute\u001b[39m\u001b[34m(self, plan, to_pandas, to_iter, to_arrow, block, data_type, log_on_exception, case_sensitive, **kwargs)\u001b[39m\n\u001b[32m    614\u001b[39m \u001b[38;5;28;01mif\u001b[39;00m (\n\u001b[32m    615\u001b[39m     is_in_stored_procedure()\n\u001b[32m    616\u001b[39m     \u001b[38;5;129;01mand\u001b[39;00m \u001b[38;5;129;01mnot\u001b[39;00m block\n\u001b[32m   (...)\u001b[39m\u001b[32m    619\u001b[39m     )\n\u001b[32m    620\u001b[39m ):  \u001b[38;5;66;03m# pragma: no cover\u001b[39;00m\n\u001b[32m    621\u001b[39m     \u001b[38;5;28;01mraise\u001b[39;00m \u001b[38;5;167;01mNotImplementedError\u001b[39;00m(\n\u001b[32m    622\u001b[39m         \u001b[33m\"\u001b[39m\u001b[33mAsync query is not supported in stored procedure yet\u001b[39m\u001b[33m\"\u001b[39m\n\u001b[32m    623\u001b[39m     )\n\u001b[32m--> \u001b[39m\u001b[32m624\u001b[39m result_set, result_meta = \u001b[38;5;28;43mself\u001b[39;49m\u001b[43m.\u001b[49m\u001b[43mget_result_set\u001b[49m\u001b[43m(\u001b[49m\n\u001b[32m    625\u001b[39m \u001b[43m    \u001b[49m\u001b[43mplan\u001b[49m\u001b[43m,\u001b[49m\n\u001b[32m    626\u001b[39m \u001b[43m    \u001b[49m\u001b[43mto_pandas\u001b[49m\u001b[43m,\u001b[49m\n\u001b[32m    627\u001b[39m \u001b[43m    \u001b[49m\u001b[43mto_iter\u001b[49m\u001b[43m,\u001b[49m\n\u001b[32m    628\u001b[39m \u001b[43m    \u001b[49m\u001b[43m*\u001b[49m\u001b[43m*\u001b[49m\u001b[43mkwargs\u001b[49m\u001b[43m,\u001b[49m\n\u001b[32m    629\u001b[39m \u001b[43m    \u001b[49m\u001b[43mblock\u001b[49m\u001b[43m=\u001b[49m\u001b[43mblock\u001b[49m\u001b[43m,\u001b[49m\n\u001b[32m    630\u001b[39m \u001b[43m    \u001b[49m\u001b[43mdata_type\u001b[49m\u001b[43m=\u001b[49m\u001b[43mdata_type\u001b[49m\u001b[43m,\u001b[49m\n\u001b[32m    631\u001b[39m \u001b[43m    \u001b[49m\u001b[43mlog_on_exception\u001b[49m\u001b[43m=\u001b[49m\u001b[43mlog_on_exception\u001b[49m\u001b[43m,\u001b[49m\n\u001b[32m    632\u001b[39m \u001b[43m    \u001b[49m\u001b[43mcase_sensitive\u001b[49m\u001b[43m=\u001b[49m\u001b[43mcase_sensitive\u001b[49m\u001b[43m,\u001b[49m\n\u001b[32m    633\u001b[39m \u001b[43m    \u001b[49m\u001b[43mto_arrow\u001b[49m\u001b[43m=\u001b[49m\u001b[43mto_arrow\u001b[49m\u001b[43m,\u001b[49m\n\u001b[32m    634\u001b[39m \u001b[43m\u001b[49m\u001b[43m)\u001b[49m\n\u001b[32m    635\u001b[39m \u001b[38;5;28;01mif\u001b[39;00m \u001b[38;5;129;01mnot\u001b[39;00m block:\n\u001b[32m    636\u001b[39m     \u001b[38;5;28;01mreturn\u001b[39;00m result_set\n",
      "\u001b[36mFile \u001b[39m\u001b[32m/usr/local/python/3.12.1/lib/python3.12/site-packages/snowflake/snowpark/_internal/analyzer/snowflake_plan.py:211\u001b[39m, in \u001b[36mSnowflakePlan.Decorator.wrap_exception.<locals>.wrap\u001b[39m\u001b[34m(*args, **kwargs)\u001b[39m\n\u001b[32m    207\u001b[39m \u001b[38;5;28;01melse\u001b[39;00m:\n\u001b[32m    208\u001b[39m     ne = SnowparkClientExceptionMessages.SQL_EXCEPTION_FROM_PROGRAMMING_ERROR(\n\u001b[32m    209\u001b[39m         e\n\u001b[32m    210\u001b[39m     )\n\u001b[32m--> \u001b[39m\u001b[32m211\u001b[39m     \u001b[38;5;28;01mraise\u001b[39;00m ne.with_traceback(tb) \u001b[38;5;28;01mfrom\u001b[39;00m\u001b[38;5;250m \u001b[39m\u001b[38;5;28;01mNone\u001b[39;00m\n",
      "\u001b[36mFile \u001b[39m\u001b[32m/usr/local/python/3.12.1/lib/python3.12/site-packages/snowflake/snowpark/_internal/analyzer/snowflake_plan.py:142\u001b[39m, in \u001b[36mSnowflakePlan.Decorator.wrap_exception.<locals>.wrap\u001b[39m\u001b[34m(*args, **kwargs)\u001b[39m\n\u001b[32m    140\u001b[39m \u001b[38;5;28;01mdef\u001b[39;00m\u001b[38;5;250m \u001b[39m\u001b[34mwrap\u001b[39m(*args, **kwargs):\n\u001b[32m    141\u001b[39m     \u001b[38;5;28;01mtry\u001b[39;00m:\n\u001b[32m--> \u001b[39m\u001b[32m142\u001b[39m         \u001b[38;5;28;01mreturn\u001b[39;00m \u001b[43mfunc\u001b[49m\u001b[43m(\u001b[49m\u001b[43m*\u001b[49m\u001b[43margs\u001b[49m\u001b[43m,\u001b[49m\u001b[43m \u001b[49m\u001b[43m*\u001b[49m\u001b[43m*\u001b[49m\u001b[43mkwargs\u001b[49m\u001b[43m)\u001b[49m\n\u001b[32m    143\u001b[39m     \u001b[38;5;28;01mexcept\u001b[39;00m snowflake.connector.errors.ProgrammingError \u001b[38;5;28;01mas\u001b[39;00m e:\n\u001b[32m    144\u001b[39m         query = \u001b[38;5;28mgetattr\u001b[39m(e, \u001b[33m\"\u001b[39m\u001b[33mquery\u001b[39m\u001b[33m\"\u001b[39m, \u001b[38;5;28;01mNone\u001b[39;00m)\n",
      "\u001b[36mFile \u001b[39m\u001b[32m/usr/local/python/3.12.1/lib/python3.12/site-packages/snowflake/snowpark/_internal/server_connection.py:746\u001b[39m, in \u001b[36mServerConnection.get_result_set\u001b[39m\u001b[34m(self, plan, to_pandas, to_iter, block, data_type, log_on_exception, case_sensitive, ignore_results, to_arrow, **kwargs)\u001b[39m\n\u001b[32m    744\u001b[39m     kwargs[DATAFRAME_AST_PARAMETER] = dataframe_ast\n\u001b[32m    745\u001b[39m is_final_query = i == \u001b[38;5;28mlen\u001b[39m(main_queries) - \u001b[32m1\u001b[39m\n\u001b[32m--> \u001b[39m\u001b[32m746\u001b[39m result = \u001b[38;5;28;43mself\u001b[39;49m\u001b[43m.\u001b[49m\u001b[43mrun_query\u001b[49m\u001b[43m(\u001b[49m\n\u001b[32m    747\u001b[39m \u001b[43m    \u001b[49m\u001b[43mfinal_query\u001b[49m\u001b[43m,\u001b[49m\n\u001b[32m    748\u001b[39m \u001b[43m    \u001b[49m\u001b[43mto_pandas\u001b[49m\u001b[43m,\u001b[49m\n\u001b[32m    749\u001b[39m \u001b[43m    \u001b[49m\u001b[43mto_iter\u001b[49m\u001b[43m \u001b[49m\u001b[38;5;129;43;01mand\u001b[39;49;00m\u001b[43m \u001b[49m\u001b[43mis_final_query\u001b[49m\u001b[43m,\u001b[49m\n\u001b[32m    750\u001b[39m \u001b[43m    \u001b[49m\u001b[43mis_ddl_on_temp_object\u001b[49m\u001b[43m=\u001b[49m\u001b[43mquery\u001b[49m\u001b[43m.\u001b[49m\u001b[43mis_ddl_on_temp_object\u001b[49m\u001b[43m,\u001b[49m\n\u001b[32m    751\u001b[39m \u001b[43m    \u001b[49m\u001b[43mblock\u001b[49m\u001b[43m=\u001b[49m\u001b[38;5;129;43;01mnot\u001b[39;49;00m\u001b[43m \u001b[49m\u001b[43mis_last\u001b[49m\u001b[43m,\u001b[49m\n\u001b[32m    752\u001b[39m \u001b[43m    \u001b[49m\u001b[43mdata_type\u001b[49m\u001b[43m=\u001b[49m\u001b[43mdata_type\u001b[49m\u001b[43m,\u001b[49m\n\u001b[32m    753\u001b[39m \u001b[43m    \u001b[49m\u001b[43masync_job_plan\u001b[49m\u001b[43m=\u001b[49m\u001b[43mplan\u001b[49m\u001b[43m,\u001b[49m\n\u001b[32m    754\u001b[39m \u001b[43m    \u001b[49m\u001b[43mlog_on_exception\u001b[49m\u001b[43m=\u001b[49m\u001b[43mlog_on_exception\u001b[49m\u001b[43m,\u001b[49m\n\u001b[32m    755\u001b[39m \u001b[43m    \u001b[49m\u001b[43mcase_sensitive\u001b[49m\u001b[43m=\u001b[49m\u001b[43mcase_sensitive\u001b[49m\u001b[43m,\u001b[49m\n\u001b[32m    756\u001b[39m \u001b[43m    \u001b[49m\u001b[43mparams\u001b[49m\u001b[43m=\u001b[49m\u001b[43mquery\u001b[49m\u001b[43m.\u001b[49m\u001b[43mparams\u001b[49m\u001b[43m,\u001b[49m\n\u001b[32m    757\u001b[39m \u001b[43m    \u001b[49m\u001b[43mignore_results\u001b[49m\u001b[43m=\u001b[49m\u001b[43mignore_results\u001b[49m\u001b[43m,\u001b[49m\n\u001b[32m    758\u001b[39m \u001b[43m    \u001b[49m\u001b[43masync_post_actions\u001b[49m\u001b[43m=\u001b[49m\u001b[43mpost_actions\u001b[49m\u001b[43m,\u001b[49m\n\u001b[32m    759\u001b[39m \u001b[43m    \u001b[49m\u001b[43mto_arrow\u001b[49m\u001b[43m=\u001b[49m\u001b[43mto_arrow\u001b[49m\u001b[43m \u001b[49m\u001b[38;5;129;43;01mand\u001b[39;49;00m\u001b[43m \u001b[49m\u001b[43mis_final_query\u001b[49m\u001b[43m,\u001b[49m\n\u001b[32m    760\u001b[39m \u001b[43m    \u001b[49m\u001b[43m*\u001b[49m\u001b[43m*\u001b[49m\u001b[43mkwargs\u001b[49m\u001b[43m,\u001b[49m\n\u001b[32m    761\u001b[39m \u001b[43m\u001b[49m\u001b[43m)\u001b[49m\n\u001b[32m    762\u001b[39m placeholders[query.query_id_place_holder] = (\n\u001b[32m    763\u001b[39m     result[\u001b[33m\"\u001b[39m\u001b[33msfqid\u001b[39m\u001b[33m\"\u001b[39m] \u001b[38;5;28;01mif\u001b[39;00m \u001b[38;5;129;01mnot\u001b[39;00m is_last \u001b[38;5;28;01melse\u001b[39;00m result.query_id\n\u001b[32m    764\u001b[39m )\n\u001b[32m    765\u001b[39m result_meta = get_new_description(\u001b[38;5;28mself\u001b[39m._cursor)\n",
      "\u001b[36mFile \u001b[39m\u001b[32m/usr/local/python/3.12.1/lib/python3.12/site-packages/snowflake/snowpark/_internal/server_connection.py:133\u001b[39m, in \u001b[36mServerConnection._Decorator.wrap_exception.<locals>.wrap\u001b[39m\u001b[34m(*args, **kwargs)\u001b[39m\n\u001b[32m    129\u001b[39m     \u001b[38;5;28;01mraise\u001b[39;00m SnowparkClientExceptionMessages.SERVER_SESSION_EXPIRED(\n\u001b[32m    130\u001b[39m         ex.cause\n\u001b[32m    131\u001b[39m     )\n\u001b[32m    132\u001b[39m \u001b[38;5;28;01mexcept\u001b[39;00m \u001b[38;5;167;01mException\u001b[39;00m \u001b[38;5;28;01mas\u001b[39;00m ex:\n\u001b[32m--> \u001b[39m\u001b[32m133\u001b[39m     \u001b[38;5;28;01mraise\u001b[39;00m ex\n",
      "\u001b[36mFile \u001b[39m\u001b[32m/usr/local/python/3.12.1/lib/python3.12/site-packages/snowflake/snowpark/_internal/server_connection.py:127\u001b[39m, in \u001b[36mServerConnection._Decorator.wrap_exception.<locals>.wrap\u001b[39m\u001b[34m(*args, **kwargs)\u001b[39m\n\u001b[32m    125\u001b[39m     \u001b[38;5;28;01mraise\u001b[39;00m SnowparkClientExceptionMessages.SERVER_SESSION_HAS_BEEN_CLOSED()\n\u001b[32m    126\u001b[39m \u001b[38;5;28;01mtry\u001b[39;00m:\n\u001b[32m--> \u001b[39m\u001b[32m127\u001b[39m     \u001b[38;5;28;01mreturn\u001b[39;00m \u001b[43mfunc\u001b[49m\u001b[43m(\u001b[49m\u001b[43m*\u001b[49m\u001b[43margs\u001b[49m\u001b[43m,\u001b[49m\u001b[43m \u001b[49m\u001b[43m*\u001b[49m\u001b[43m*\u001b[49m\u001b[43mkwargs\u001b[49m\u001b[43m)\u001b[49m\n\u001b[32m    128\u001b[39m \u001b[38;5;28;01mexcept\u001b[39;00m ReauthenticationRequest \u001b[38;5;28;01mas\u001b[39;00m ex:\n\u001b[32m    129\u001b[39m     \u001b[38;5;28;01mraise\u001b[39;00m SnowparkClientExceptionMessages.SERVER_SESSION_EXPIRED(\n\u001b[32m    130\u001b[39m         ex.cause\n\u001b[32m    131\u001b[39m     )\n",
      "\u001b[36mFile \u001b[39m\u001b[32m/usr/local/python/3.12.1/lib/python3.12/site-packages/snowflake/snowpark/_internal/server_connection.py:520\u001b[39m, in \u001b[36mServerConnection.run_query\u001b[39m\u001b[34m(self, query, to_pandas, to_iter, is_ddl_on_temp_object, block, data_type, async_job_plan, log_on_exception, case_sensitive, params, num_statements, ignore_results, async_post_actions, to_arrow, **kwargs)\u001b[39m\n\u001b[32m    518\u001b[39m         query_id_log = \u001b[33mf\u001b[39m\u001b[33m\"\u001b[39m\u001b[33m [queryID: \u001b[39m\u001b[38;5;132;01m{\u001b[39;00mex.sfqid\u001b[38;5;132;01m}\u001b[39;00m\u001b[33m]\u001b[39m\u001b[33m\"\u001b[39m \u001b[38;5;28;01mif\u001b[39;00m \u001b[38;5;28mhasattr\u001b[39m(ex, \u001b[33m\"\u001b[39m\u001b[33msfqid\u001b[39m\u001b[33m\"\u001b[39m) \u001b[38;5;28;01melse\u001b[39;00m \u001b[33m\"\u001b[39m\u001b[33m\"\u001b[39m\n\u001b[32m    519\u001b[39m         logger.error(\u001b[33mf\u001b[39m\u001b[33m\"\u001b[39m\u001b[33mFailed to execute query\u001b[39m\u001b[38;5;132;01m{\u001b[39;00mquery_id_log\u001b[38;5;132;01m}\u001b[39;00m\u001b[33m \u001b[39m\u001b[38;5;132;01m{\u001b[39;00mquery\u001b[38;5;132;01m}\u001b[39;00m\u001b[38;5;130;01m\\n\u001b[39;00m\u001b[38;5;132;01m{\u001b[39;00mex\u001b[38;5;132;01m}\u001b[39;00m\u001b[33m\"\u001b[39m)\n\u001b[32m--> \u001b[39m\u001b[32m520\u001b[39m     \u001b[38;5;28;01mraise\u001b[39;00m ex\n\u001b[32m    522\u001b[39m \u001b[38;5;66;03m# fetch_pandas_all/batches() only works for SELECT statements\u001b[39;00m\n\u001b[32m    523\u001b[39m \u001b[38;5;66;03m# We call fetchall() if fetch_pandas_all/batches() fails,\u001b[39;00m\n\u001b[32m    524\u001b[39m \u001b[38;5;66;03m# because when the query plan has multiple queries, it will\u001b[39;00m\n\u001b[32m    525\u001b[39m \u001b[38;5;66;03m# have non-select statements, and it shouldn't fail if the user\u001b[39;00m\n\u001b[32m    526\u001b[39m \u001b[38;5;66;03m# calls to_pandas() to execute the query.\u001b[39;00m\n\u001b[32m    527\u001b[39m \u001b[38;5;28;01mif\u001b[39;00m block:\n",
      "\u001b[36mFile \u001b[39m\u001b[32m/usr/local/python/3.12.1/lib/python3.12/site-packages/snowflake/snowpark/_internal/server_connection.py:505\u001b[39m, in \u001b[36mServerConnection.run_query\u001b[39m\u001b[34m(self, query, to_pandas, to_iter, is_ddl_on_temp_object, block, data_type, async_job_plan, log_on_exception, case_sensitive, params, num_statements, ignore_results, async_post_actions, to_arrow, **kwargs)\u001b[39m\n\u001b[32m    503\u001b[39m     kwargs[\u001b[33m\"\u001b[39m\u001b[33m_statement_params\u001b[39m\u001b[33m\"\u001b[39m][\u001b[33m\"\u001b[39m\u001b[33mSNOWPARK_SKIP_TXN_COMMIT_IN_DDL\u001b[39m\u001b[33m\"\u001b[39m] = \u001b[38;5;28;01mTrue\u001b[39;00m\n\u001b[32m    504\u001b[39m \u001b[38;5;28;01mif\u001b[39;00m block:\n\u001b[32m--> \u001b[39m\u001b[32m505\u001b[39m     results_cursor = \u001b[38;5;28;43mself\u001b[39;49m\u001b[43m.\u001b[49m\u001b[43mexecute_and_notify_query_listener\u001b[49m\u001b[43m(\u001b[49m\n\u001b[32m    506\u001b[39m \u001b[43m        \u001b[49m\u001b[43mquery\u001b[49m\u001b[43m,\u001b[49m\u001b[43m \u001b[49m\u001b[43mparams\u001b[49m\u001b[43m=\u001b[49m\u001b[43mparams\u001b[49m\u001b[43m,\u001b[49m\u001b[43m \u001b[49m\u001b[43m*\u001b[49m\u001b[43m*\u001b[49m\u001b[43mkwargs\u001b[49m\n\u001b[32m    507\u001b[39m \u001b[43m    \u001b[49m\u001b[43m)\u001b[49m\n\u001b[32m    508\u001b[39m     logger.debug(\u001b[33mf\u001b[39m\u001b[33m\"\u001b[39m\u001b[33mExecute query [queryID: \u001b[39m\u001b[38;5;132;01m{\u001b[39;00mresults_cursor.sfqid\u001b[38;5;132;01m}\u001b[39;00m\u001b[33m] \u001b[39m\u001b[38;5;132;01m{\u001b[39;00mquery\u001b[38;5;132;01m}\u001b[39;00m\u001b[33m\"\u001b[39m)\n\u001b[32m    509\u001b[39m \u001b[38;5;28;01melse\u001b[39;00m:\n",
      "\u001b[36mFile \u001b[39m\u001b[32m/usr/local/python/3.12.1/lib/python3.12/site-packages/snowflake/snowpark/_internal/server_connection.py:446\u001b[39m, in \u001b[36mServerConnection.execute_and_notify_query_listener\u001b[39m\u001b[34m(self, query, **kwargs)\u001b[39m\n\u001b[32m    442\u001b[39m     err_query = ex.query \u001b[38;5;28;01mif\u001b[39;00m \u001b[38;5;28misinstance\u001b[39m(ex, Error) \u001b[38;5;28;01melse\u001b[39;00m query\n\u001b[32m    443\u001b[39m     \u001b[38;5;28mself\u001b[39m.notify_query_listeners(\n\u001b[32m    444\u001b[39m         QueryRecord(sfqid, err_query, \u001b[38;5;28;01mFalse\u001b[39;00m), is_error=\u001b[38;5;28;01mTrue\u001b[39;00m, **notify_kwargs\n\u001b[32m    445\u001b[39m     )\n\u001b[32m--> \u001b[39m\u001b[32m446\u001b[39m     \u001b[38;5;28;01mraise\u001b[39;00m ex\n\u001b[32m    448\u001b[39m notify_kwargs[\u001b[33m\"\u001b[39m\u001b[33mrequestId\u001b[39m\u001b[33m\"\u001b[39m] = \u001b[38;5;28mstr\u001b[39m(results_cursor._request_id)\n\u001b[32m    449\u001b[39m \u001b[38;5;28mself\u001b[39m.notify_query_listeners(\n\u001b[32m    450\u001b[39m     QueryRecord(results_cursor.sfqid, results_cursor.query), **notify_kwargs\n\u001b[32m    451\u001b[39m )\n",
      "\u001b[36mFile \u001b[39m\u001b[32m/usr/local/python/3.12.1/lib/python3.12/site-packages/snowflake/snowpark/_internal/server_connection.py:437\u001b[39m, in \u001b[36mServerConnection.execute_and_notify_query_listener\u001b[39m\u001b[34m(self, query, **kwargs)\u001b[39m\n\u001b[32m    434\u001b[39m     notify_kwargs[\u001b[33m\"\u001b[39m\u001b[33mdataframeAst\u001b[39m\u001b[33m\"\u001b[39m] = kwargs[DATAFRAME_AST_PARAMETER]\n\u001b[32m    436\u001b[39m \u001b[38;5;28;01mtry\u001b[39;00m:\n\u001b[32m--> \u001b[39m\u001b[32m437\u001b[39m     results_cursor = \u001b[38;5;28;43mself\u001b[39;49m\u001b[43m.\u001b[49m\u001b[43m_cursor\u001b[49m\u001b[43m.\u001b[49m\u001b[43mexecute\u001b[49m\u001b[43m(\u001b[49m\u001b[43mquery\u001b[49m\u001b[43m,\u001b[49m\u001b[43m \u001b[49m\u001b[43m*\u001b[49m\u001b[43m*\u001b[49m\u001b[43mkwargs\u001b[49m\u001b[43m)\u001b[49m\n\u001b[32m    438\u001b[39m \u001b[38;5;28;01mexcept\u001b[39;00m \u001b[38;5;167;01mException\u001b[39;00m \u001b[38;5;28;01mas\u001b[39;00m ex:\n\u001b[32m    439\u001b[39m     notify_kwargs[\u001b[33m\"\u001b[39m\u001b[33mrequestId\u001b[39m\u001b[33m\"\u001b[39m] = \u001b[38;5;28;01mNone\u001b[39;00m\n",
      "\u001b[36mFile \u001b[39m\u001b[32m/usr/local/python/3.12.1/lib/python3.12/site-packages/snowflake/connector/cursor.py:1104\u001b[39m, in \u001b[36mSnowflakeCursor.execute\u001b[39m\u001b[34m(self, command, params, _bind_stage, timeout, _exec_async, _no_retry, _do_reset, _put_callback, _put_azure_callback, _put_callback_output_stream, _get_callback, _get_azure_callback, _get_callback_output_stream, _show_progress_bar, _statement_params, _is_internal, _describe_only, _no_results, _is_put_get, _raise_put_get_error, _force_put_overwrite, _skip_upload_on_content_match, file_stream, num_statements, _force_qmark_paramstyle, _dataframe_ast)\u001b[39m\n\u001b[32m   1100\u001b[39m     is_integrity_error = (\n\u001b[32m   1101\u001b[39m         code == \u001b[33m\"\u001b[39m\u001b[33m100072\u001b[39m\u001b[33m\"\u001b[39m\n\u001b[32m   1102\u001b[39m     )  \u001b[38;5;66;03m# NULL result in a non-nullable column\u001b[39;00m\n\u001b[32m   1103\u001b[39m     error_class = IntegrityError \u001b[38;5;28;01mif\u001b[39;00m is_integrity_error \u001b[38;5;28;01melse\u001b[39;00m ProgrammingError\n\u001b[32m-> \u001b[39m\u001b[32m1104\u001b[39m     \u001b[43mError\u001b[49m\u001b[43m.\u001b[49m\u001b[43merrorhandler_wrapper\u001b[49m\u001b[43m(\u001b[49m\u001b[38;5;28;43mself\u001b[39;49m\u001b[43m.\u001b[49m\u001b[43mconnection\u001b[49m\u001b[43m,\u001b[49m\u001b[43m \u001b[49m\u001b[38;5;28;43mself\u001b[39;49m\u001b[43m,\u001b[49m\u001b[43m \u001b[49m\u001b[43merror_class\u001b[49m\u001b[43m,\u001b[49m\u001b[43m \u001b[49m\u001b[43merrvalue\u001b[49m\u001b[43m)\u001b[49m\n\u001b[32m   1105\u001b[39m \u001b[38;5;28;01mreturn\u001b[39;00m \u001b[38;5;28mself\u001b[39m\n",
      "\u001b[36mFile \u001b[39m\u001b[32m/usr/local/python/3.12.1/lib/python3.12/site-packages/snowflake/connector/errors.py:283\u001b[39m, in \u001b[36mError.errorhandler_wrapper\u001b[39m\u001b[34m(connection, cursor, error_class, error_value)\u001b[39m\n\u001b[32m    260\u001b[39m \u001b[38;5;129m@staticmethod\u001b[39m\n\u001b[32m    261\u001b[39m \u001b[38;5;28;01mdef\u001b[39;00m\u001b[38;5;250m \u001b[39m\u001b[34merrorhandler_wrapper\u001b[39m(\n\u001b[32m    262\u001b[39m     connection: SnowflakeConnection | \u001b[38;5;28;01mNone\u001b[39;00m,\n\u001b[32m   (...)\u001b[39m\u001b[32m    265\u001b[39m     error_value: \u001b[38;5;28mdict\u001b[39m[\u001b[38;5;28mstr\u001b[39m, Any],\n\u001b[32m    266\u001b[39m ) -> \u001b[38;5;28;01mNone\u001b[39;00m:\n\u001b[32m    267\u001b[39m \u001b[38;5;250m    \u001b[39m\u001b[33;03m\"\"\"Error handler wrapper that calls the errorhandler method.\u001b[39;00m\n\u001b[32m    268\u001b[39m \n\u001b[32m    269\u001b[39m \u001b[33;03m    Args:\u001b[39;00m\n\u001b[32m   (...)\u001b[39m\u001b[32m    280\u001b[39m \u001b[33;03m        exception to the first handler in that order.\u001b[39;00m\n\u001b[32m    281\u001b[39m \u001b[33;03m    \"\"\"\u001b[39;00m\n\u001b[32m--> \u001b[39m\u001b[32m283\u001b[39m     handed_over = \u001b[43mError\u001b[49m\u001b[43m.\u001b[49m\u001b[43mhand_to_other_handler\u001b[49m\u001b[43m(\u001b[49m\n\u001b[32m    284\u001b[39m \u001b[43m        \u001b[49m\u001b[43mconnection\u001b[49m\u001b[43m,\u001b[49m\n\u001b[32m    285\u001b[39m \u001b[43m        \u001b[49m\u001b[43mcursor\u001b[49m\u001b[43m,\u001b[49m\n\u001b[32m    286\u001b[39m \u001b[43m        \u001b[49m\u001b[43merror_class\u001b[49m\u001b[43m,\u001b[49m\n\u001b[32m    287\u001b[39m \u001b[43m        \u001b[49m\u001b[43merror_value\u001b[49m\u001b[43m,\u001b[49m\n\u001b[32m    288\u001b[39m \u001b[43m    \u001b[49m\u001b[43m)\u001b[49m\n\u001b[32m    289\u001b[39m     \u001b[38;5;28;01mif\u001b[39;00m \u001b[38;5;129;01mnot\u001b[39;00m handed_over:\n\u001b[32m    290\u001b[39m         \u001b[38;5;28;01mraise\u001b[39;00m Error.errorhandler_make_exception(\n\u001b[32m    291\u001b[39m             error_class,\n\u001b[32m    292\u001b[39m             error_value,\n\u001b[32m    293\u001b[39m         )\n",
      "\u001b[36mFile \u001b[39m\u001b[32m/usr/local/python/3.12.1/lib/python3.12/site-packages/snowflake/connector/errors.py:338\u001b[39m, in \u001b[36mError.hand_to_other_handler\u001b[39m\u001b[34m(connection, cursor, error_class, error_value)\u001b[39m\n\u001b[32m    336\u001b[39m \u001b[38;5;28;01mif\u001b[39;00m cursor \u001b[38;5;129;01mis\u001b[39;00m \u001b[38;5;129;01mnot\u001b[39;00m \u001b[38;5;28;01mNone\u001b[39;00m:\n\u001b[32m    337\u001b[39m     cursor.messages.append((error_class, error_value))\n\u001b[32m--> \u001b[39m\u001b[32m338\u001b[39m     \u001b[43mcursor\u001b[49m\u001b[43m.\u001b[49m\u001b[43merrorhandler\u001b[49m\u001b[43m(\u001b[49m\u001b[43mconnection\u001b[49m\u001b[43m,\u001b[49m\u001b[43m \u001b[49m\u001b[43mcursor\u001b[49m\u001b[43m,\u001b[49m\u001b[43m \u001b[49m\u001b[43merror_class\u001b[49m\u001b[43m,\u001b[49m\u001b[43m \u001b[49m\u001b[43merror_value\u001b[49m\u001b[43m)\u001b[49m\n\u001b[32m    339\u001b[39m     \u001b[38;5;28;01mreturn\u001b[39;00m \u001b[38;5;28;01mTrue\u001b[39;00m\n\u001b[32m    340\u001b[39m \u001b[38;5;28;01melif\u001b[39;00m connection \u001b[38;5;129;01mis\u001b[39;00m \u001b[38;5;129;01mnot\u001b[39;00m \u001b[38;5;28;01mNone\u001b[39;00m:\n",
      "\u001b[36mFile \u001b[39m\u001b[32m/usr/local/python/3.12.1/lib/python3.12/site-packages/snowflake/connector/errors.py:214\u001b[39m, in \u001b[36mError.default_errorhandler\u001b[39m\u001b[34m(connection, cursor, error_class, error_value)\u001b[39m\n\u001b[32m    212\u001b[39m errno = error_value.get(\u001b[33m\"\u001b[39m\u001b[33merrno\u001b[39m\u001b[33m\"\u001b[39m)\n\u001b[32m    213\u001b[39m done_format_msg = error_value.get(\u001b[33m\"\u001b[39m\u001b[33mdone_format_msg\u001b[39m\u001b[33m\"\u001b[39m)\n\u001b[32m--> \u001b[39m\u001b[32m214\u001b[39m \u001b[38;5;28;01mraise\u001b[39;00m error_class(\n\u001b[32m    215\u001b[39m     msg=error_value.get(\u001b[33m\"\u001b[39m\u001b[33mmsg\u001b[39m\u001b[33m\"\u001b[39m),\n\u001b[32m    216\u001b[39m     errno=\u001b[38;5;28;01mNone\u001b[39;00m \u001b[38;5;28;01mif\u001b[39;00m errno \u001b[38;5;129;01mis\u001b[39;00m \u001b[38;5;28;01mNone\u001b[39;00m \u001b[38;5;28;01melse\u001b[39;00m \u001b[38;5;28mint\u001b[39m(errno),\n\u001b[32m    217\u001b[39m     sqlstate=error_value.get(\u001b[33m\"\u001b[39m\u001b[33msqlstate\u001b[39m\u001b[33m\"\u001b[39m),\n\u001b[32m    218\u001b[39m     sfqid=error_value.get(\u001b[33m\"\u001b[39m\u001b[33msfqid\u001b[39m\u001b[33m\"\u001b[39m),\n\u001b[32m    219\u001b[39m     query=error_value.get(\u001b[33m\"\u001b[39m\u001b[33mquery\u001b[39m\u001b[33m\"\u001b[39m),\n\u001b[32m    220\u001b[39m     done_format_msg=(\n\u001b[32m    221\u001b[39m         \u001b[38;5;28;01mNone\u001b[39;00m \u001b[38;5;28;01mif\u001b[39;00m done_format_msg \u001b[38;5;129;01mis\u001b[39;00m \u001b[38;5;28;01mNone\u001b[39;00m \u001b[38;5;28;01melse\u001b[39;00m \u001b[38;5;28mbool\u001b[39m(done_format_msg)\n\u001b[32m    222\u001b[39m     ),\n\u001b[32m    223\u001b[39m     connection=connection,\n\u001b[32m    224\u001b[39m     cursor=cursor,\n\u001b[32m    225\u001b[39m )\n",
      "\u001b[31mSnowparkSQLException\u001b[39m: (1304): 01bb6ad3-0000-899a-0001-466a0010e2ae: 002141 (42601): SQL compilation error:\nUnknown user-defined function SNOWFLAKE.CORTEX.EMBED_TEXT"
     ]
    }
   ],
   "source": [
    "session.sql('''\n",
    "        create or replace table Audio_Call_Embedding\n",
    "        as\n",
    "        with sub\n",
    "        as\n",
    "        (\n",
    "        select \n",
    "                datetime as CallDate,\n",
    "                audio_file_name as AudioFileName,\n",
    "                call_details:CallToAction as CallToAction,\n",
    "                call_details:ClaimNumber::string as ClaimNumber ,\n",
    "                call_details:PolicyNumber::string as PolicyNumber,\n",
    "                call_details:Representative::string as AgentName,\n",
    "                call_details:Customer::string as CustomerName,\n",
    "                call_details:CallIntent::string as CallIntent,\n",
    "                call_details:Issue as Issue,\n",
    "                call_details:ModeofUpdate as ModeofUpdate,\n",
    "                call_details:NextSteps as NextSteps,\n",
    "                call_details:Resolution as Resolution,\n",
    "                IFF(call_details:FirstCallResolution>0.5,'Yes','No') as FristCallResolution,\n",
    "            IFF(call_sentiment >0.72,'Positive','Negative') as CallSentiment,\n",
    "            substr(call_summary,charindex(':',call_summary,1)+1) as CallSummary\n",
    "        \n",
    "        from Audio_Claims_Extracted_info\n",
    "        )\n",
    "        select OBJECT_CONSTRUCT(*) as audio_data, SNOWFLAKE.CORTEX.embed_text('e5-base-v2' ,\n",
    "        audio_data::string) as ct_embedding from sub ;\n",
    "                    \n",
    "            ''').collect()"
   ]
  },
  {
   "cell_type": "markdown",
   "id": "dd98e1c8",
   "metadata": {},
   "source": [
    "#### AutoClaim and PolicytDetails Master Table "
   ]
  },
  {
   "cell_type": "code",
   "execution_count": 8,
   "id": "d6dd622b",
   "metadata": {},
   "outputs": [
    {
     "data": {
      "text/plain": [
       "[Row(status='Table POLICYDETAILS successfully created.')]"
      ]
     },
     "execution_count": 8,
     "metadata": {},
     "output_type": "execute_result"
    }
   ],
   "source": [
    "session.sql(''' \n",
    "CREATE or replace TABLE PolicyDetails (\n",
    "    PolicyID                INT IDENTITY,\n",
    "    PolicyNumber            VARCHAR(50) UNIQUE,\n",
    "    CustomerID              INT,\n",
    "    PolicyType              VARCHAR(50),\n",
    "    CoverageAmount          DECIMAL(10, 2),\n",
    "    PremiumAmount           DECIMAL(8, 2),\n",
    "    StartDate               DATE,\n",
    "    EndDate                 DATE,\n",
    "    RenewalDate             DATE,\n",
    "    PolicyStatus            VARCHAR(20),\n",
    "    PaymentStatus           VARCHAR(20),\n",
    "    Beneficiaries           VARCHAR(255),\n",
    "    CoverageDetails         TEXT,\n",
    "    RidersEndorsements      TEXT,\n",
    "    InsuredItemsPersons     TEXT,\n",
    "    PolicyholderDetails     TEXT,\n",
    "    AgentBrokerDetails      TEXT,\n",
    "    Deductibles             DECIMAL(8, 2),\n",
    "    Exclusions              TEXT,\n",
    "    ClaimsHistory           TEXT,\n",
    "    UnderwritingDetails     TEXT,\n",
    "    PolicyTermsConditions   TEXT\n",
    "); ''').collect()\n",
    "\n",
    "\n"
   ]
  },
  {
   "cell_type": "code",
   "execution_count": 9,
   "id": "12b6e15f",
   "metadata": {},
   "outputs": [
    {
     "data": {
      "text/plain": [
       "[Row(number of rows inserted=4)]"
      ]
     },
     "execution_count": 9,
     "metadata": {},
     "output_type": "execute_result"
    }
   ],
   "source": [
    "session.sql(''' \n",
    "INSERT INTO PolicyDetails (     \n",
    "PolicyNumber         \n",
    ",CustomerID           \n",
    ",PolicyType           \n",
    ",CoverageAmount       \n",
    ",PremiumAmount        \n",
    ",StartDate            \n",
    ",EndDate              \n",
    ",RenewalDate          \n",
    ",PolicyStatus         \n",
    ",PaymentStatus        \n",
    ",Beneficiaries        \n",
    ",CoverageDetails      \n",
    ",RidersEndorsements   \n",
    ",InsuredItemsPersons  \n",
    ",PolicyholderDetails  \n",
    ",AgentBrokerDetails   \n",
    ",Deductibles          \n",
    ",Exclusions           \n",
    ",ClaimsHistory        \n",
    ",UnderwritingDetails  \n",
    ",PolicyTermsConditions) VALUES\n",
    "( 'POL001', 1001, 'Auto', 500000, 1000, '2022-01-01', '2023-01-01', '2022-12-31', 'Active', 'Paid', 'John Doe', 'Basic coverage for vehicle insurance.', 'None', 'John Doe, Jane Doe', 'John Doe, 123 Insurance Inc.', 'John Doe, Jane Doe', 100, 'None', 'No claims made yet.', 'Standard underwriting process completed.', 'Standard terms and conditions apply.'),\n",
    "( 'POL002', 1002, 'Auto', 100000, 500, '2022-02-01', '2023-02-01', '2023-01-31', 'Active', 'Due', 'Jane Doe', 'Basic coverage for health insurance.', 'Critical Illness Rider', 'Jane Doe, Family Members', 'Jane Doe, 456 Insurance Services', 'Jane Doe, Family Members', 50, 'Pre-existing conditions', 'No claims made yet.', 'Medical examination completed.', 'Standard terms and conditions apply.'),\n",
    "( 'POL010', 1010, 'Auto', 25000, 300, '2022-10-01', '2023-10-01', '2023-09-30', 'Active', 'Paid', 'Alice Smith', 'Basic coverage for auto insurance.', 'Roadside Assistance Rider', 'Alice Smith, Vehicle Details', 'Alice Smith, XYZ Insurance Agency', 'Alice Smith, Vehicle Details', 75, 'Accidents caused by negligence', 'No claims made yet.', 'Vehicle inspection completed.', 'Standard terms and conditions apply.'),\n",
    "( 'POL934514', 1007, 'Auto', 500000, 1000, '2023-08-01', '2024-08-01', '2024-07-25', 'Active', 'Paid', 'Mike S', 'Full coverage for vehicle insurance.', 'None', 'Mike S', 'Mike S, 456 Insurance Inc.', 'Mike S, \n",
    "Jane S', 100, 'None', '2 claims made so far.', 'Standard underwriting process completed.', 'Standard terms and conditions apply.')\n",
    "\n",
    "''').collect()\n"
   ]
  },
  {
   "cell_type": "code",
   "execution_count": 10,
   "id": "d20000c0",
   "metadata": {},
   "outputs": [
    {
     "data": {
      "text/plain": [
       "[Row(status='Table AUTOCLAIMS successfully created.')]"
      ]
     },
     "execution_count": 10,
     "metadata": {},
     "output_type": "execute_result"
    }
   ],
   "source": [
    "session.sql('''\n",
    "CREATE or replace TABLE AutoClaims (\n",
    "    ClaimID varchar(50) ,\n",
    "    PolicyID INT,\n",
    "    ClaimDate DATE,\n",
    "    ClaimAmount DECIMAL(10, 2),\n",
    "    ClaimDescription TEXT,\n",
    "    ClaimStatus VARCHAR(50)\n",
    ")\n",
    "''').collect()"
   ]
  },
  {
   "cell_type": "code",
   "execution_count": 11,
   "id": "322712d6",
   "metadata": {},
   "outputs": [
    {
     "data": {
      "text/plain": [
       "[Row(number of rows inserted=4)]"
      ]
     },
     "execution_count": 11,
     "metadata": {},
     "output_type": "execute_result"
    }
   ],
   "source": [
    "session.sql('''\n",
    "INSERT INTO AutoClaims (ClaimID,PolicyID, ClaimDate, ClaimAmount, ClaimDescription, ClaimStatus)\n",
    "VALUES\n",
    "    ('CLM234567',4, '2023-09-15', 5000, 'Vehicle collision at an intersection.', 'Pending'),\n",
    "    ('CLM876543',5, '2023-04-20', 1200, 'Minor fender bender in a parking lot.', 'Approved'),\n",
    "    ('CLM567890',6, '2023-10-10', 8000, 'Total loss due to a major accident on the highway.', 'Denied'),\n",
    "    ('CLM345678901',7, '2023-09-15', 5000, 'Vehicle Damage', 'Pending')\n",
    "''').collect()"
   ]
  },
  {
   "cell_type": "code",
   "execution_count": 59,
   "id": "c6c29c7d",
   "metadata": {},
   "outputs": [],
   "source": [
    "session.close()"
   ]
  },
  {
   "cell_type": "code",
   "execution_count": 60,
   "id": "6f9795f5",
   "metadata": {},
   "outputs": [],
   "source": [
    "# generated_transcripts_df = session.table(output_table_name)"
   ]
  },
  {
   "cell_type": "code",
   "execution_count": null,
   "id": "7523ba51",
   "metadata": {},
   "outputs": [],
   "source": []
  }
 ],
 "metadata": {
  "kernelspec": {
   "display_name": "Python 3 (ipykernel)",
   "language": "python",
   "name": "python3"
  },
  "language_info": {
   "codemirror_mode": {
    "name": "ipython",
    "version": 3
   },
   "file_extension": ".py",
   "mimetype": "text/x-python",
   "name": "python",
   "nbconvert_exporter": "python",
   "pygments_lexer": "ipython3",
   "version": "3.12.1"
  },
  "vscode": {
   "interpreter": {
    "hash": "87393b85a9e84f5acf85b4897642fb1f420cfcaf148d9618810d560b47e94533"
   }
  }
 },
 "nbformat": 4,
 "nbformat_minor": 5
}
